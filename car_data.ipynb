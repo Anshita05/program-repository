{
  "nbformat": 4,
  "nbformat_minor": 0,
  "metadata": {
    "colab": {
      "provenance": [],
      "authorship_tag": "ABX9TyOuv0UKFaiTs/M4hy3gQA+N",
      "include_colab_link": true
    },
    "kernelspec": {
      "name": "python3",
      "display_name": "Python 3"
    },
    "language_info": {
      "name": "python"
    }
  },
  "cells": [
    {
      "cell_type": "markdown",
      "metadata": {
        "id": "view-in-github",
        "colab_type": "text"
      },
      "source": [
        "<a href=\"https://colab.research.google.com/github/Anshita05/program-repository/blob/main/car_data.ipynb\" target=\"_parent\"><img src=\"https://colab.research.google.com/assets/colab-badge.svg\" alt=\"Open In Colab\"/></a>"
      ]
    },
    {
      "cell_type": "markdown",
      "source": [
        "**Question: fill the missing data in the used cara data set.\n",
        "**"
      ],
      "metadata": {
        "id": "UuoLpRJjRk2J"
      }
    },
    {
      "cell_type": "code",
      "execution_count": null,
      "metadata": {
        "id": "lwx6IakLEbuC"
      },
      "outputs": [],
      "source": [
        "from google.colab import files"
      ]
    },
    {
      "cell_type": "markdown",
      "source": [
        "Explaination: This above code specifically imports the files module from the google.colab package. The files module provides functionality for interacting with files, particularly for uploading and downloading files to and from the Colab environment."
      ],
      "metadata": {
        "id": "7y9AMTCNOUNo"
      }
    },
    {
      "cell_type": "code",
      "source": [
        "files.upload()"
      ],
      "metadata": {
        "id": "qCdAmJnuEmqZ",
        "colab": {
          "base_uri": "https://localhost:8080/",
          "height": 90
        },
        "outputId": "f62914ba-7868-4fc9-8e7d-442b616b922f"
      },
      "execution_count": null,
      "outputs": [
        {
          "output_type": "display_data",
          "data": {
            "text/plain": [
              "<IPython.core.display.HTML object>"
            ],
            "text/html": [
              "\n",
              "     <input type=\"file\" id=\"files-76f40d32-f0ec-4f41-9c33-cde962d4cbad\" name=\"files[]\" multiple disabled\n",
              "        style=\"border:none\" />\n",
              "     <output id=\"result-76f40d32-f0ec-4f41-9c33-cde962d4cbad\">\n",
              "      Upload widget is only available when the cell has been executed in the\n",
              "      current browser session. Please rerun this cell to enable.\n",
              "      </output>\n",
              "      <script>// Copyright 2017 Google LLC\n",
              "//\n",
              "// Licensed under the Apache License, Version 2.0 (the \"License\");\n",
              "// you may not use this file except in compliance with the License.\n",
              "// You may obtain a copy of the License at\n",
              "//\n",
              "//      http://www.apache.org/licenses/LICENSE-2.0\n",
              "//\n",
              "// Unless required by applicable law or agreed to in writing, software\n",
              "// distributed under the License is distributed on an \"AS IS\" BASIS,\n",
              "// WITHOUT WARRANTIES OR CONDITIONS OF ANY KIND, either express or implied.\n",
              "// See the License for the specific language governing permissions and\n",
              "// limitations under the License.\n",
              "\n",
              "/**\n",
              " * @fileoverview Helpers for google.colab Python module.\n",
              " */\n",
              "(function(scope) {\n",
              "function span(text, styleAttributes = {}) {\n",
              "  const element = document.createElement('span');\n",
              "  element.textContent = text;\n",
              "  for (const key of Object.keys(styleAttributes)) {\n",
              "    element.style[key] = styleAttributes[key];\n",
              "  }\n",
              "  return element;\n",
              "}\n",
              "\n",
              "// Max number of bytes which will be uploaded at a time.\n",
              "const MAX_PAYLOAD_SIZE = 100 * 1024;\n",
              "\n",
              "function _uploadFiles(inputId, outputId) {\n",
              "  const steps = uploadFilesStep(inputId, outputId);\n",
              "  const outputElement = document.getElementById(outputId);\n",
              "  // Cache steps on the outputElement to make it available for the next call\n",
              "  // to uploadFilesContinue from Python.\n",
              "  outputElement.steps = steps;\n",
              "\n",
              "  return _uploadFilesContinue(outputId);\n",
              "}\n",
              "\n",
              "// This is roughly an async generator (not supported in the browser yet),\n",
              "// where there are multiple asynchronous steps and the Python side is going\n",
              "// to poll for completion of each step.\n",
              "// This uses a Promise to block the python side on completion of each step,\n",
              "// then passes the result of the previous step as the input to the next step.\n",
              "function _uploadFilesContinue(outputId) {\n",
              "  const outputElement = document.getElementById(outputId);\n",
              "  const steps = outputElement.steps;\n",
              "\n",
              "  const next = steps.next(outputElement.lastPromiseValue);\n",
              "  return Promise.resolve(next.value.promise).then((value) => {\n",
              "    // Cache the last promise value to make it available to the next\n",
              "    // step of the generator.\n",
              "    outputElement.lastPromiseValue = value;\n",
              "    return next.value.response;\n",
              "  });\n",
              "}\n",
              "\n",
              "/**\n",
              " * Generator function which is called between each async step of the upload\n",
              " * process.\n",
              " * @param {string} inputId Element ID of the input file picker element.\n",
              " * @param {string} outputId Element ID of the output display.\n",
              " * @return {!Iterable<!Object>} Iterable of next steps.\n",
              " */\n",
              "function* uploadFilesStep(inputId, outputId) {\n",
              "  const inputElement = document.getElementById(inputId);\n",
              "  inputElement.disabled = false;\n",
              "\n",
              "  const outputElement = document.getElementById(outputId);\n",
              "  outputElement.innerHTML = '';\n",
              "\n",
              "  const pickedPromise = new Promise((resolve) => {\n",
              "    inputElement.addEventListener('change', (e) => {\n",
              "      resolve(e.target.files);\n",
              "    });\n",
              "  });\n",
              "\n",
              "  const cancel = document.createElement('button');\n",
              "  inputElement.parentElement.appendChild(cancel);\n",
              "  cancel.textContent = 'Cancel upload';\n",
              "  const cancelPromise = new Promise((resolve) => {\n",
              "    cancel.onclick = () => {\n",
              "      resolve(null);\n",
              "    };\n",
              "  });\n",
              "\n",
              "  // Wait for the user to pick the files.\n",
              "  const files = yield {\n",
              "    promise: Promise.race([pickedPromise, cancelPromise]),\n",
              "    response: {\n",
              "      action: 'starting',\n",
              "    }\n",
              "  };\n",
              "\n",
              "  cancel.remove();\n",
              "\n",
              "  // Disable the input element since further picks are not allowed.\n",
              "  inputElement.disabled = true;\n",
              "\n",
              "  if (!files) {\n",
              "    return {\n",
              "      response: {\n",
              "        action: 'complete',\n",
              "      }\n",
              "    };\n",
              "  }\n",
              "\n",
              "  for (const file of files) {\n",
              "    const li = document.createElement('li');\n",
              "    li.append(span(file.name, {fontWeight: 'bold'}));\n",
              "    li.append(span(\n",
              "        `(${file.type || 'n/a'}) - ${file.size} bytes, ` +\n",
              "        `last modified: ${\n",
              "            file.lastModifiedDate ? file.lastModifiedDate.toLocaleDateString() :\n",
              "                                    'n/a'} - `));\n",
              "    const percent = span('0% done');\n",
              "    li.appendChild(percent);\n",
              "\n",
              "    outputElement.appendChild(li);\n",
              "\n",
              "    const fileDataPromise = new Promise((resolve) => {\n",
              "      const reader = new FileReader();\n",
              "      reader.onload = (e) => {\n",
              "        resolve(e.target.result);\n",
              "      };\n",
              "      reader.readAsArrayBuffer(file);\n",
              "    });\n",
              "    // Wait for the data to be ready.\n",
              "    let fileData = yield {\n",
              "      promise: fileDataPromise,\n",
              "      response: {\n",
              "        action: 'continue',\n",
              "      }\n",
              "    };\n",
              "\n",
              "    // Use a chunked sending to avoid message size limits. See b/62115660.\n",
              "    let position = 0;\n",
              "    do {\n",
              "      const length = Math.min(fileData.byteLength - position, MAX_PAYLOAD_SIZE);\n",
              "      const chunk = new Uint8Array(fileData, position, length);\n",
              "      position += length;\n",
              "\n",
              "      const base64 = btoa(String.fromCharCode.apply(null, chunk));\n",
              "      yield {\n",
              "        response: {\n",
              "          action: 'append',\n",
              "          file: file.name,\n",
              "          data: base64,\n",
              "        },\n",
              "      };\n",
              "\n",
              "      let percentDone = fileData.byteLength === 0 ?\n",
              "          100 :\n",
              "          Math.round((position / fileData.byteLength) * 100);\n",
              "      percent.textContent = `${percentDone}% done`;\n",
              "\n",
              "    } while (position < fileData.byteLength);\n",
              "  }\n",
              "\n",
              "  // All done.\n",
              "  yield {\n",
              "    response: {\n",
              "      action: 'complete',\n",
              "    }\n",
              "  };\n",
              "}\n",
              "\n",
              "scope.google = scope.google || {};\n",
              "scope.google.colab = scope.google.colab || {};\n",
              "scope.google.colab._files = {\n",
              "  _uploadFiles,\n",
              "  _uploadFilesContinue,\n",
              "};\n",
              "})(self);\n",
              "</script> "
            ]
          },
          "metadata": {}
        },
        {
          "output_type": "stream",
          "name": "stdout",
          "text": [
            "Saving kaggle.json to kaggle.json\n"
          ]
        },
        {
          "output_type": "execute_result",
          "data": {
            "text/plain": [
              "{'kaggle.json': b'{\"username\":\"aastha0924\",\"key\":\"f1ca7b4da700cba5d7560b4f9d49a970\"}'}"
            ]
          },
          "metadata": {},
          "execution_count": 4
        }
      ]
    },
    {
      "cell_type": "markdown",
      "source": [
        "The above code line prompt the user to upload files from their local machine to the Colab environment. When you running this command, a file upload dialog will appear, allowing you to select files to upload."
      ],
      "metadata": {
        "id": "Id_O57qrPDRz"
      }
    },
    {
      "cell_type": "code",
      "source": [
        "!mkdir ~/.kaggle"
      ],
      "metadata": {
        "id": "A6fuhmNCEsLZ",
        "colab": {
          "base_uri": "https://localhost:8080/"
        },
        "outputId": "a0392765-4eb2-4f80-d58b-e82d21d9a0f8"
      },
      "execution_count": null,
      "outputs": [
        {
          "output_type": "stream",
          "name": "stdout",
          "text": [
            "mkdir: cannot create directory ‘/root/.kaggle’: File exists\n"
          ]
        }
      ]
    },
    {
      "cell_type": "markdown",
      "source": [
        " This creates a directory named \"kaggle\" in the user's home directory. This command is used to store Kaggle API key and configuration files in this directory."
      ],
      "metadata": {
        "id": "kz0rFjPEa-Dc"
      }
    },
    {
      "cell_type": "code",
      "source": [
        "!mv /content/kaggle.json ~/.kaggle"
      ],
      "metadata": {
        "id": "azOoqRmDEtLh"
      },
      "execution_count": null,
      "outputs": []
    },
    {
      "cell_type": "markdown",
      "source": [
        " This moves the uploaded \"kaggle.json\" file from the \"/content directory\"(where Colab stores uploaded files) to the \"~/.kaggle directory\"."
      ],
      "metadata": {
        "id": "M3ixqEyzbIrT"
      }
    },
    {
      "cell_type": "code",
      "source": [
        "!chmod 600 ~/.kaggle/kaggle.json"
      ],
      "metadata": {
        "id": "rrZXacF0EwLJ"
      },
      "execution_count": null,
      "outputs": []
    },
    {
      "cell_type": "markdown",
      "source": [
        "This changes the permissions of the \"kaggle.json\" file to make it readable and writable only by the owner. This is a security measure to protect sensitive credentials.\n"
      ],
      "metadata": {
        "id": "Wnz9Ts1zpNrN"
      }
    },
    {
      "cell_type": "code",
      "source": [
        "!pip install kaggle"
      ],
      "metadata": {
        "id": "uOctcNd1E0Vr",
        "colab": {
          "base_uri": "https://localhost:8080/"
        },
        "outputId": "0ee51b1e-9f3d-485a-8e3c-5c2b953b22bd"
      },
      "execution_count": null,
      "outputs": [
        {
          "output_type": "stream",
          "name": "stdout",
          "text": [
            "Requirement already satisfied: kaggle in /usr/local/lib/python3.10/dist-packages (1.5.16)\n",
            "Requirement already satisfied: six>=1.10 in /usr/local/lib/python3.10/dist-packages (from kaggle) (1.16.0)\n",
            "Requirement already satisfied: certifi in /usr/local/lib/python3.10/dist-packages (from kaggle) (2023.11.17)\n",
            "Requirement already satisfied: python-dateutil in /usr/local/lib/python3.10/dist-packages (from kaggle) (2.8.2)\n",
            "Requirement already satisfied: requests in /usr/local/lib/python3.10/dist-packages (from kaggle) (2.31.0)\n",
            "Requirement already satisfied: tqdm in /usr/local/lib/python3.10/dist-packages (from kaggle) (4.66.1)\n",
            "Requirement already satisfied: python-slugify in /usr/local/lib/python3.10/dist-packages (from kaggle) (8.0.1)\n",
            "Requirement already satisfied: urllib3 in /usr/local/lib/python3.10/dist-packages (from kaggle) (2.0.7)\n",
            "Requirement already satisfied: bleach in /usr/local/lib/python3.10/dist-packages (from kaggle) (6.1.0)\n",
            "Requirement already satisfied: webencodings in /usr/local/lib/python3.10/dist-packages (from bleach->kaggle) (0.5.1)\n",
            "Requirement already satisfied: text-unidecode>=1.3 in /usr/local/lib/python3.10/dist-packages (from python-slugify->kaggle) (1.3)\n",
            "Requirement already satisfied: charset-normalizer<4,>=2 in /usr/local/lib/python3.10/dist-packages (from requests->kaggle) (3.3.2)\n",
            "Requirement already satisfied: idna<4,>=2.5 in /usr/local/lib/python3.10/dist-packages (from requests->kaggle) (3.6)\n"
          ]
        }
      ]
    },
    {
      "cell_type": "markdown",
      "source": [
        "This installs the Kaggle Python package, which provides a command-line interface for interacting with Kaggle."
      ],
      "metadata": {
        "id": "De6z1EnZpXEw"
      }
    },
    {
      "cell_type": "code",
      "source": [
        "!kaggle datasets download -d austinreese/craigslist-carstrucks-data"
      ],
      "metadata": {
        "id": "Gt-yjVxnE1Lk",
        "colab": {
          "base_uri": "https://localhost:8080/"
        },
        "outputId": "431c73ac-30f8-4a1c-b36a-f0b14b87e062"
      },
      "execution_count": null,
      "outputs": [
        {
          "output_type": "stream",
          "name": "stdout",
          "text": [
            "craigslist-carstrucks-data.zip: Skipping, found more recently modified local copy (use --force to force download)\n"
          ]
        }
      ]
    },
    {
      "cell_type": "markdown",
      "source": [
        "This uses the Kaggle CLI to download a dataset with the specified dataset ID (austinreese/craigslist-carstrucks-data). The dataset ID is usually found in the URL of the Kaggle dataset."
      ],
      "metadata": {
        "id": "qKYV4LmepfaD"
      }
    },
    {
      "cell_type": "code",
      "source": [
        "!unzip /content/craigslist-carstrucks-data.zip"
      ],
      "metadata": {
        "id": "aFzYagPQE4RE",
        "colab": {
          "base_uri": "https://localhost:8080/"
        },
        "outputId": "a4bd08f6-5d37-4af7-fd6b-34876d053cff"
      },
      "execution_count": null,
      "outputs": [
        {
          "output_type": "stream",
          "name": "stdout",
          "text": [
            "Archive:  /content/craigslist-carstrucks-data.zip\n",
            "replace vehicles.csv? [y]es, [n]o, [A]ll, [N]one, [r]ename: "
          ]
        }
      ]
    },
    {
      "cell_type": "markdown",
      "source": [
        "This unzips the downloaded dataset file (craigslist-carstrucks-data.zip) in the \"/content\" directory."
      ],
      "metadata": {
        "id": "OyRHwxUipuJw"
      }
    },
    {
      "cell_type": "code",
      "source": [
        "import pandas as pd"
      ],
      "metadata": {
        "id": "FPqWW7KEE9WE"
      },
      "execution_count": null,
      "outputs": []
    },
    {
      "cell_type": "markdown",
      "source": [
        "This is used to import \"pandas\" library which is used for data manipulation and analysis."
      ],
      "metadata": {
        "id": "E7N3QvKQp49U"
      }
    },
    {
      "cell_type": "code",
      "source": [
        "import numpy as np"
      ],
      "metadata": {
        "id": "-kuGlC1DE_tk"
      },
      "execution_count": null,
      "outputs": []
    },
    {
      "cell_type": "markdown",
      "source": [
        "This statement is used to import the \"NumPy\" library, which is a powerful numerical computing library in Python."
      ],
      "metadata": {
        "id": "PE3RuZg6tqKh"
      }
    },
    {
      "cell_type": "code",
      "source": [
        "data = pd.read_csv(\"/content/vehicles.csv\")"
      ],
      "metadata": {
        "id": "gIO5VeeIFCZH"
      },
      "execution_count": null,
      "outputs": []
    },
    {
      "cell_type": "markdown",
      "source": [
        "This statement is responsible for reading a CSV file named \"vehicles.csv\" and loading its contents into a pandas DataFrame named \"data\"."
      ],
      "metadata": {
        "id": "iyGDHhcIuBrV"
      }
    },
    {
      "cell_type": "code",
      "source": [
        "data.head()"
      ],
      "metadata": {
        "id": "2gLrIcjDFEyv",
        "colab": {
          "base_uri": "https://localhost:8080/",
          "height": 290
        },
        "outputId": "0027a5d3-fa2f-4521-c74f-49df7bfa8d32"
      },
      "execution_count": null,
      "outputs": [
        {
          "output_type": "execute_result",
          "data": {
            "text/plain": [
              "           id                                                url  \\\n",
              "0  7222695916  https://prescott.craigslist.org/cto/d/prescott...   \n",
              "1  7218891961  https://fayar.craigslist.org/ctd/d/bentonville...   \n",
              "2  7221797935  https://keys.craigslist.org/cto/d/summerland-k...   \n",
              "3  7222270760  https://worcester.craigslist.org/cto/d/west-br...   \n",
              "4  7210384030  https://greensboro.craigslist.org/cto/d/trinit...   \n",
              "\n",
              "                   region                         region_url  price  year  \\\n",
              "0                prescott    https://prescott.craigslist.org   6000   NaN   \n",
              "1            fayetteville       https://fayar.craigslist.org  11900   NaN   \n",
              "2            florida keys        https://keys.craigslist.org  21000   NaN   \n",
              "3  worcester / central MA   https://worcester.craigslist.org   1500   NaN   \n",
              "4              greensboro  https://greensboro.craigslist.org   4900   NaN   \n",
              "\n",
              "  manufacturer model condition cylinders  ... size  type paint_color  \\\n",
              "0          NaN   NaN       NaN       NaN  ...  NaN   NaN         NaN   \n",
              "1          NaN   NaN       NaN       NaN  ...  NaN   NaN         NaN   \n",
              "2          NaN   NaN       NaN       NaN  ...  NaN   NaN         NaN   \n",
              "3          NaN   NaN       NaN       NaN  ...  NaN   NaN         NaN   \n",
              "4          NaN   NaN       NaN       NaN  ...  NaN   NaN         NaN   \n",
              "\n",
              "  image_url description county state lat long posting_date  \n",
              "0       NaN         NaN    NaN    az NaN  NaN          NaN  \n",
              "1       NaN         NaN    NaN    ar NaN  NaN          NaN  \n",
              "2       NaN         NaN    NaN    fl NaN  NaN          NaN  \n",
              "3       NaN         NaN    NaN    ma NaN  NaN          NaN  \n",
              "4       NaN         NaN    NaN    nc NaN  NaN          NaN  \n",
              "\n",
              "[5 rows x 26 columns]"
            ],
            "text/html": [
              "\n",
              "  <div id=\"df-a1dd36f1-7968-4d24-b038-ef801dccab67\" class=\"colab-df-container\">\n",
              "    <div>\n",
              "<style scoped>\n",
              "    .dataframe tbody tr th:only-of-type {\n",
              "        vertical-align: middle;\n",
              "    }\n",
              "\n",
              "    .dataframe tbody tr th {\n",
              "        vertical-align: top;\n",
              "    }\n",
              "\n",
              "    .dataframe thead th {\n",
              "        text-align: right;\n",
              "    }\n",
              "</style>\n",
              "<table border=\"1\" class=\"dataframe\">\n",
              "  <thead>\n",
              "    <tr style=\"text-align: right;\">\n",
              "      <th></th>\n",
              "      <th>id</th>\n",
              "      <th>url</th>\n",
              "      <th>region</th>\n",
              "      <th>region_url</th>\n",
              "      <th>price</th>\n",
              "      <th>year</th>\n",
              "      <th>manufacturer</th>\n",
              "      <th>model</th>\n",
              "      <th>condition</th>\n",
              "      <th>cylinders</th>\n",
              "      <th>...</th>\n",
              "      <th>size</th>\n",
              "      <th>type</th>\n",
              "      <th>paint_color</th>\n",
              "      <th>image_url</th>\n",
              "      <th>description</th>\n",
              "      <th>county</th>\n",
              "      <th>state</th>\n",
              "      <th>lat</th>\n",
              "      <th>long</th>\n",
              "      <th>posting_date</th>\n",
              "    </tr>\n",
              "  </thead>\n",
              "  <tbody>\n",
              "    <tr>\n",
              "      <th>0</th>\n",
              "      <td>7222695916</td>\n",
              "      <td>https://prescott.craigslist.org/cto/d/prescott...</td>\n",
              "      <td>prescott</td>\n",
              "      <td>https://prescott.craigslist.org</td>\n",
              "      <td>6000</td>\n",
              "      <td>NaN</td>\n",
              "      <td>NaN</td>\n",
              "      <td>NaN</td>\n",
              "      <td>NaN</td>\n",
              "      <td>NaN</td>\n",
              "      <td>...</td>\n",
              "      <td>NaN</td>\n",
              "      <td>NaN</td>\n",
              "      <td>NaN</td>\n",
              "      <td>NaN</td>\n",
              "      <td>NaN</td>\n",
              "      <td>NaN</td>\n",
              "      <td>az</td>\n",
              "      <td>NaN</td>\n",
              "      <td>NaN</td>\n",
              "      <td>NaN</td>\n",
              "    </tr>\n",
              "    <tr>\n",
              "      <th>1</th>\n",
              "      <td>7218891961</td>\n",
              "      <td>https://fayar.craigslist.org/ctd/d/bentonville...</td>\n",
              "      <td>fayetteville</td>\n",
              "      <td>https://fayar.craigslist.org</td>\n",
              "      <td>11900</td>\n",
              "      <td>NaN</td>\n",
              "      <td>NaN</td>\n",
              "      <td>NaN</td>\n",
              "      <td>NaN</td>\n",
              "      <td>NaN</td>\n",
              "      <td>...</td>\n",
              "      <td>NaN</td>\n",
              "      <td>NaN</td>\n",
              "      <td>NaN</td>\n",
              "      <td>NaN</td>\n",
              "      <td>NaN</td>\n",
              "      <td>NaN</td>\n",
              "      <td>ar</td>\n",
              "      <td>NaN</td>\n",
              "      <td>NaN</td>\n",
              "      <td>NaN</td>\n",
              "    </tr>\n",
              "    <tr>\n",
              "      <th>2</th>\n",
              "      <td>7221797935</td>\n",
              "      <td>https://keys.craigslist.org/cto/d/summerland-k...</td>\n",
              "      <td>florida keys</td>\n",
              "      <td>https://keys.craigslist.org</td>\n",
              "      <td>21000</td>\n",
              "      <td>NaN</td>\n",
              "      <td>NaN</td>\n",
              "      <td>NaN</td>\n",
              "      <td>NaN</td>\n",
              "      <td>NaN</td>\n",
              "      <td>...</td>\n",
              "      <td>NaN</td>\n",
              "      <td>NaN</td>\n",
              "      <td>NaN</td>\n",
              "      <td>NaN</td>\n",
              "      <td>NaN</td>\n",
              "      <td>NaN</td>\n",
              "      <td>fl</td>\n",
              "      <td>NaN</td>\n",
              "      <td>NaN</td>\n",
              "      <td>NaN</td>\n",
              "    </tr>\n",
              "    <tr>\n",
              "      <th>3</th>\n",
              "      <td>7222270760</td>\n",
              "      <td>https://worcester.craigslist.org/cto/d/west-br...</td>\n",
              "      <td>worcester / central MA</td>\n",
              "      <td>https://worcester.craigslist.org</td>\n",
              "      <td>1500</td>\n",
              "      <td>NaN</td>\n",
              "      <td>NaN</td>\n",
              "      <td>NaN</td>\n",
              "      <td>NaN</td>\n",
              "      <td>NaN</td>\n",
              "      <td>...</td>\n",
              "      <td>NaN</td>\n",
              "      <td>NaN</td>\n",
              "      <td>NaN</td>\n",
              "      <td>NaN</td>\n",
              "      <td>NaN</td>\n",
              "      <td>NaN</td>\n",
              "      <td>ma</td>\n",
              "      <td>NaN</td>\n",
              "      <td>NaN</td>\n",
              "      <td>NaN</td>\n",
              "    </tr>\n",
              "    <tr>\n",
              "      <th>4</th>\n",
              "      <td>7210384030</td>\n",
              "      <td>https://greensboro.craigslist.org/cto/d/trinit...</td>\n",
              "      <td>greensboro</td>\n",
              "      <td>https://greensboro.craigslist.org</td>\n",
              "      <td>4900</td>\n",
              "      <td>NaN</td>\n",
              "      <td>NaN</td>\n",
              "      <td>NaN</td>\n",
              "      <td>NaN</td>\n",
              "      <td>NaN</td>\n",
              "      <td>...</td>\n",
              "      <td>NaN</td>\n",
              "      <td>NaN</td>\n",
              "      <td>NaN</td>\n",
              "      <td>NaN</td>\n",
              "      <td>NaN</td>\n",
              "      <td>NaN</td>\n",
              "      <td>nc</td>\n",
              "      <td>NaN</td>\n",
              "      <td>NaN</td>\n",
              "      <td>NaN</td>\n",
              "    </tr>\n",
              "  </tbody>\n",
              "</table>\n",
              "<p>5 rows × 26 columns</p>\n",
              "</div>\n",
              "    <div class=\"colab-df-buttons\">\n",
              "\n",
              "  <div class=\"colab-df-container\">\n",
              "    <button class=\"colab-df-convert\" onclick=\"convertToInteractive('df-a1dd36f1-7968-4d24-b038-ef801dccab67')\"\n",
              "            title=\"Convert this dataframe to an interactive table.\"\n",
              "            style=\"display:none;\">\n",
              "\n",
              "  <svg xmlns=\"http://www.w3.org/2000/svg\" height=\"24px\" viewBox=\"0 -960 960 960\">\n",
              "    <path d=\"M120-120v-720h720v720H120Zm60-500h600v-160H180v160Zm220 220h160v-160H400v160Zm0 220h160v-160H400v160ZM180-400h160v-160H180v160Zm440 0h160v-160H620v160ZM180-180h160v-160H180v160Zm440 0h160v-160H620v160Z\"/>\n",
              "  </svg>\n",
              "    </button>\n",
              "\n",
              "  <style>\n",
              "    .colab-df-container {\n",
              "      display:flex;\n",
              "      gap: 12px;\n",
              "    }\n",
              "\n",
              "    .colab-df-convert {\n",
              "      background-color: #E8F0FE;\n",
              "      border: none;\n",
              "      border-radius: 50%;\n",
              "      cursor: pointer;\n",
              "      display: none;\n",
              "      fill: #1967D2;\n",
              "      height: 32px;\n",
              "      padding: 0 0 0 0;\n",
              "      width: 32px;\n",
              "    }\n",
              "\n",
              "    .colab-df-convert:hover {\n",
              "      background-color: #E2EBFA;\n",
              "      box-shadow: 0px 1px 2px rgba(60, 64, 67, 0.3), 0px 1px 3px 1px rgba(60, 64, 67, 0.15);\n",
              "      fill: #174EA6;\n",
              "    }\n",
              "\n",
              "    .colab-df-buttons div {\n",
              "      margin-bottom: 4px;\n",
              "    }\n",
              "\n",
              "    [theme=dark] .colab-df-convert {\n",
              "      background-color: #3B4455;\n",
              "      fill: #D2E3FC;\n",
              "    }\n",
              "\n",
              "    [theme=dark] .colab-df-convert:hover {\n",
              "      background-color: #434B5C;\n",
              "      box-shadow: 0px 1px 3px 1px rgba(0, 0, 0, 0.15);\n",
              "      filter: drop-shadow(0px 1px 2px rgba(0, 0, 0, 0.3));\n",
              "      fill: #FFFFFF;\n",
              "    }\n",
              "  </style>\n",
              "\n",
              "    <script>\n",
              "      const buttonEl =\n",
              "        document.querySelector('#df-a1dd36f1-7968-4d24-b038-ef801dccab67 button.colab-df-convert');\n",
              "      buttonEl.style.display =\n",
              "        google.colab.kernel.accessAllowed ? 'block' : 'none';\n",
              "\n",
              "      async function convertToInteractive(key) {\n",
              "        const element = document.querySelector('#df-a1dd36f1-7968-4d24-b038-ef801dccab67');\n",
              "        const dataTable =\n",
              "          await google.colab.kernel.invokeFunction('convertToInteractive',\n",
              "                                                    [key], {});\n",
              "        if (!dataTable) return;\n",
              "\n",
              "        const docLinkHtml = 'Like what you see? Visit the ' +\n",
              "          '<a target=\"_blank\" href=https://colab.research.google.com/notebooks/data_table.ipynb>data table notebook</a>'\n",
              "          + ' to learn more about interactive tables.';\n",
              "        element.innerHTML = '';\n",
              "        dataTable['output_type'] = 'display_data';\n",
              "        await google.colab.output.renderOutput(dataTable, element);\n",
              "        const docLink = document.createElement('div');\n",
              "        docLink.innerHTML = docLinkHtml;\n",
              "        element.appendChild(docLink);\n",
              "      }\n",
              "    </script>\n",
              "  </div>\n",
              "\n",
              "\n",
              "<div id=\"df-cb95cbff-3654-4241-b7dd-c25c1b0c5b8a\">\n",
              "  <button class=\"colab-df-quickchart\" onclick=\"quickchart('df-cb95cbff-3654-4241-b7dd-c25c1b0c5b8a')\"\n",
              "            title=\"Suggest charts\"\n",
              "            style=\"display:none;\">\n",
              "\n",
              "<svg xmlns=\"http://www.w3.org/2000/svg\" height=\"24px\"viewBox=\"0 0 24 24\"\n",
              "     width=\"24px\">\n",
              "    <g>\n",
              "        <path d=\"M19 3H5c-1.1 0-2 .9-2 2v14c0 1.1.9 2 2 2h14c1.1 0 2-.9 2-2V5c0-1.1-.9-2-2-2zM9 17H7v-7h2v7zm4 0h-2V7h2v10zm4 0h-2v-4h2v4z\"/>\n",
              "    </g>\n",
              "</svg>\n",
              "  </button>\n",
              "\n",
              "<style>\n",
              "  .colab-df-quickchart {\n",
              "      --bg-color: #E8F0FE;\n",
              "      --fill-color: #1967D2;\n",
              "      --hover-bg-color: #E2EBFA;\n",
              "      --hover-fill-color: #174EA6;\n",
              "      --disabled-fill-color: #AAA;\n",
              "      --disabled-bg-color: #DDD;\n",
              "  }\n",
              "\n",
              "  [theme=dark] .colab-df-quickchart {\n",
              "      --bg-color: #3B4455;\n",
              "      --fill-color: #D2E3FC;\n",
              "      --hover-bg-color: #434B5C;\n",
              "      --hover-fill-color: #FFFFFF;\n",
              "      --disabled-bg-color: #3B4455;\n",
              "      --disabled-fill-color: #666;\n",
              "  }\n",
              "\n",
              "  .colab-df-quickchart {\n",
              "    background-color: var(--bg-color);\n",
              "    border: none;\n",
              "    border-radius: 50%;\n",
              "    cursor: pointer;\n",
              "    display: none;\n",
              "    fill: var(--fill-color);\n",
              "    height: 32px;\n",
              "    padding: 0;\n",
              "    width: 32px;\n",
              "  }\n",
              "\n",
              "  .colab-df-quickchart:hover {\n",
              "    background-color: var(--hover-bg-color);\n",
              "    box-shadow: 0 1px 2px rgba(60, 64, 67, 0.3), 0 1px 3px 1px rgba(60, 64, 67, 0.15);\n",
              "    fill: var(--button-hover-fill-color);\n",
              "  }\n",
              "\n",
              "  .colab-df-quickchart-complete:disabled,\n",
              "  .colab-df-quickchart-complete:disabled:hover {\n",
              "    background-color: var(--disabled-bg-color);\n",
              "    fill: var(--disabled-fill-color);\n",
              "    box-shadow: none;\n",
              "  }\n",
              "\n",
              "  .colab-df-spinner {\n",
              "    border: 2px solid var(--fill-color);\n",
              "    border-color: transparent;\n",
              "    border-bottom-color: var(--fill-color);\n",
              "    animation:\n",
              "      spin 1s steps(1) infinite;\n",
              "  }\n",
              "\n",
              "  @keyframes spin {\n",
              "    0% {\n",
              "      border-color: transparent;\n",
              "      border-bottom-color: var(--fill-color);\n",
              "      border-left-color: var(--fill-color);\n",
              "    }\n",
              "    20% {\n",
              "      border-color: transparent;\n",
              "      border-left-color: var(--fill-color);\n",
              "      border-top-color: var(--fill-color);\n",
              "    }\n",
              "    30% {\n",
              "      border-color: transparent;\n",
              "      border-left-color: var(--fill-color);\n",
              "      border-top-color: var(--fill-color);\n",
              "      border-right-color: var(--fill-color);\n",
              "    }\n",
              "    40% {\n",
              "      border-color: transparent;\n",
              "      border-right-color: var(--fill-color);\n",
              "      border-top-color: var(--fill-color);\n",
              "    }\n",
              "    60% {\n",
              "      border-color: transparent;\n",
              "      border-right-color: var(--fill-color);\n",
              "    }\n",
              "    80% {\n",
              "      border-color: transparent;\n",
              "      border-right-color: var(--fill-color);\n",
              "      border-bottom-color: var(--fill-color);\n",
              "    }\n",
              "    90% {\n",
              "      border-color: transparent;\n",
              "      border-bottom-color: var(--fill-color);\n",
              "    }\n",
              "  }\n",
              "</style>\n",
              "\n",
              "  <script>\n",
              "    async function quickchart(key) {\n",
              "      const quickchartButtonEl =\n",
              "        document.querySelector('#' + key + ' button');\n",
              "      quickchartButtonEl.disabled = true;  // To prevent multiple clicks.\n",
              "      quickchartButtonEl.classList.add('colab-df-spinner');\n",
              "      try {\n",
              "        const charts = await google.colab.kernel.invokeFunction(\n",
              "            'suggestCharts', [key], {});\n",
              "      } catch (error) {\n",
              "        console.error('Error during call to suggestCharts:', error);\n",
              "      }\n",
              "      quickchartButtonEl.classList.remove('colab-df-spinner');\n",
              "      quickchartButtonEl.classList.add('colab-df-quickchart-complete');\n",
              "    }\n",
              "    (() => {\n",
              "      let quickchartButtonEl =\n",
              "        document.querySelector('#df-cb95cbff-3654-4241-b7dd-c25c1b0c5b8a button');\n",
              "      quickchartButtonEl.style.display =\n",
              "        google.colab.kernel.accessAllowed ? 'block' : 'none';\n",
              "    })();\n",
              "  </script>\n",
              "</div>\n",
              "    </div>\n",
              "  </div>\n"
            ]
          },
          "metadata": {},
          "execution_count": 15
        }
      ]
    },
    {
      "cell_type": "markdown",
      "source": [
        "This line displays the first few rows of the DataFrame to inspect the data."
      ],
      "metadata": {
        "id": "2vjt19cCusIy"
      }
    },
    {
      "cell_type": "code",
      "source": [
        "data.columns"
      ],
      "metadata": {
        "id": "7zryAMLPFPtv",
        "colab": {
          "base_uri": "https://localhost:8080/"
        },
        "outputId": "f441d224-672c-4112-c88c-9eff21ecb791"
      },
      "execution_count": null,
      "outputs": [
        {
          "output_type": "execute_result",
          "data": {
            "text/plain": [
              "Index(['id', 'url', 'region', 'region_url', 'price', 'year', 'manufacturer',\n",
              "       'model', 'condition', 'cylinders', 'fuel', 'odometer', 'title_status',\n",
              "       'transmission', 'VIN', 'drive', 'size', 'type', 'paint_color',\n",
              "       'image_url', 'description', 'county', 'state', 'lat', 'long',\n",
              "       'posting_date'],\n",
              "      dtype='object')"
            ]
          },
          "metadata": {},
          "execution_count": 16
        }
      ]
    },
    {
      "cell_type": "markdown",
      "source": [
        " This statement is used to display the column names of the DataFrame data. it returns an Index object containing the column labels of the DataFrame."
      ],
      "metadata": {
        "id": "_JOPXyPDu_TO"
      }
    },
    {
      "cell_type": "code",
      "source": [
        "data.shape"
      ],
      "metadata": {
        "id": "8bQ18tp7FSbB",
        "colab": {
          "base_uri": "https://localhost:8080/"
        },
        "outputId": "7e33de74-7a5c-48cb-d624-971e0497f5fd"
      },
      "execution_count": null,
      "outputs": [
        {
          "output_type": "execute_result",
          "data": {
            "text/plain": [
              "(426880, 26)"
            ]
          },
          "metadata": {},
          "execution_count": 17
        }
      ]
    },
    {
      "cell_type": "markdown",
      "source": [
        "this line is used to obtain the shape of the DataFrame data."
      ],
      "metadata": {
        "id": "3zlg2pXtvVYq"
      }
    },
    {
      "cell_type": "code",
      "source": [
        "data.isna().sum()"
      ],
      "metadata": {
        "id": "4auqNoJ5FTSR",
        "colab": {
          "base_uri": "https://localhost:8080/"
        },
        "outputId": "20f2b772-0f94-4b76-fb9e-eaf7094819a3"
      },
      "execution_count": null,
      "outputs": [
        {
          "output_type": "execute_result",
          "data": {
            "text/plain": [
              "id                   0\n",
              "url                  0\n",
              "region               0\n",
              "region_url           0\n",
              "price                0\n",
              "year              1205\n",
              "manufacturer     17646\n",
              "model             5277\n",
              "condition       174104\n",
              "cylinders       177678\n",
              "fuel              3013\n",
              "odometer          4400\n",
              "title_status      8242\n",
              "transmission      2556\n",
              "VIN             161042\n",
              "drive           130567\n",
              "size            306361\n",
              "type             92858\n",
              "paint_color     130203\n",
              "image_url           68\n",
              "description         70\n",
              "county          426880\n",
              "state                0\n",
              "lat               6549\n",
              "long              6549\n",
              "posting_date        68\n",
              "dtype: int64"
            ]
          },
          "metadata": {},
          "execution_count": 18
        }
      ]
    },
    {
      "cell_type": "markdown",
      "source": [
        "THis line is used to check the number of missing (NaN or null) values in each column of the DataFrame data. In the context of the provided code, this line is likely used to check the presence of missing values in the DataFrame data after various cleaning and imputation steps. It helps the user to identify columns with missing data and decide whether further actions, such as additional imputation or dropping columns, are necessary to handle missing values appropriately."
      ],
      "metadata": {
        "id": "bkuPm0IQvjpY"
      }
    },
    {
      "cell_type": "code",
      "source": [
        "data.drop(labels=data.columns[0:4],axis=1,inplace=True)"
      ],
      "metadata": {
        "id": "bet9QMv2FbWR"
      },
      "execution_count": null,
      "outputs": []
    },
    {
      "cell_type": "markdown",
      "source": [
        "THe above  drop statement is used to remove unneccessary data rows and coloumns from our data set\n"
      ],
      "metadata": {
        "id": "QvHTYQdjKgS7"
      }
    },
    {
      "cell_type": "code",
      "source": [
        "data.drop(labels=\"title_status\",axis=1,inplace=True)"
      ],
      "metadata": {
        "id": "HfxqwM_5FcIa"
      },
      "execution_count": null,
      "outputs": []
    },
    {
      "cell_type": "markdown",
      "source": [
        " The code is dropping the column \"title_status\" from the DataFrame data. After executing this code, the \"title_status\" column will be removed from the DataFrame."
      ],
      "metadata": {
        "id": "R58yt4efTAPw"
      }
    },
    {
      "cell_type": "code",
      "source": [
        "data.drop(labels=data.columns[14:],axis=1,inplace=True)"
      ],
      "metadata": {
        "id": "nL5XvkqOFeU5"
      },
      "execution_count": null,
      "outputs": []
    },
    {
      "cell_type": "code",
      "source": [
        "data.drop(labels=\"VIN\",axis=1,inplace=True)"
      ],
      "metadata": {
        "id": "Us49-qZ6FiJ8"
      },
      "execution_count": null,
      "outputs": []
    },
    {
      "cell_type": "code",
      "source": [
        "data.shape"
      ],
      "metadata": {
        "id": "aDwgmtXuFnkN",
        "colab": {
          "base_uri": "https://localhost:8080/"
        },
        "outputId": "a57eaf04-0cb7-4120-f7f2-d47271ed5aa3"
      },
      "execution_count": null,
      "outputs": [
        {
          "output_type": "execute_result",
          "data": {
            "text/plain": [
              "(426880, 13)"
            ]
          },
          "metadata": {},
          "execution_count": 23
        }
      ]
    },
    {
      "cell_type": "markdown",
      "source": [
        "Now we again use this shape statement to obtain the shape of the DataFrame data."
      ],
      "metadata": {
        "id": "uqiG5Aw-K33l"
      }
    },
    {
      "cell_type": "code",
      "source": [
        "data.columns"
      ],
      "metadata": {
        "id": "zHwA8-KdFqfs",
        "colab": {
          "base_uri": "https://localhost:8080/"
        },
        "outputId": "4043f3f3-073a-4a41-8753-e0ec7b2164d1"
      },
      "execution_count": null,
      "outputs": [
        {
          "output_type": "execute_result",
          "data": {
            "text/plain": [
              "Index(['price', 'year', 'manufacturer', 'model', 'condition', 'cylinders',\n",
              "       'fuel', 'odometer', 'transmission', 'drive', 'size', 'type',\n",
              "       'paint_color'],\n",
              "      dtype='object')"
            ]
          },
          "metadata": {},
          "execution_count": 24
        }
      ]
    },
    {
      "cell_type": "code",
      "source": [
        "data.dropna(axis=0,thresh=12,inplace=True)"
      ],
      "metadata": {
        "id": "QD-F40VTFv6Y"
      },
      "execution_count": null,
      "outputs": []
    },
    {
      "cell_type": "markdown",
      "source": [
        "This code is dropping rows from the DataFrame where there are fewer than 12 non-null values in a row. The DataFrame data is being modified directly due to inplace=True."
      ],
      "metadata": {
        "id": "SSqfL3lMLfwy"
      }
    },
    {
      "cell_type": "code",
      "source": [
        "data.isna().sum()"
      ],
      "metadata": {
        "id": "v7Y47tHsFyRQ",
        "colab": {
          "base_uri": "https://localhost:8080/"
        },
        "outputId": "02ccc859-55b2-46af-ca95-355767b1bc4b"
      },
      "execution_count": null,
      "outputs": [
        {
          "output_type": "execute_result",
          "data": {
            "text/plain": [
              "price               0\n",
              "year                0\n",
              "manufacturer     4059\n",
              "model             975\n",
              "condition       13570\n",
              "cylinders        1766\n",
              "fuel                0\n",
              "odometer          408\n",
              "transmission       11\n",
              "drive            2491\n",
              "size            36793\n",
              "type             1893\n",
              "paint_color      2856\n",
              "dtype: int64"
            ]
          },
          "metadata": {},
          "execution_count": 26
        }
      ]
    },
    {
      "cell_type": "code",
      "source": [
        "data[\"odometer\"].fillna(value=data[\"odometer\"].mean(),inplace=True)"
      ],
      "metadata": {
        "id": "ViQq-JRrF3lg"
      },
      "execution_count": null,
      "outputs": []
    },
    {
      "cell_type": "markdown",
      "source": [
        "the code is filling missing values in the \"odometer\" column with the mean of the non-null values in that column, and it does so directly in the original DataFrame due to inplace=True"
      ],
      "metadata": {
        "id": "dARroYdaLyZ8"
      }
    },
    {
      "cell_type": "code",
      "source": [
        "data[\"condition\"].unique()"
      ],
      "metadata": {
        "id": "R6UbeO1MF7w3",
        "colab": {
          "base_uri": "https://localhost:8080/"
        },
        "outputId": "c95b2c84-c6a4-45af-8519-6ed645a78954"
      },
      "execution_count": null,
      "outputs": [
        {
          "output_type": "execute_result",
          "data": {
            "text/plain": [
              "array(['excellent', 'good', 'like new', 'new', 'fair', nan, 'salvage'],\n",
              "      dtype=object)"
            ]
          },
          "metadata": {},
          "execution_count": 28
        }
      ]
    },
    {
      "cell_type": "markdown",
      "source": [
        "The above statement will return an array or a list containing the unique values present in the \"condition\" column of the DataFrame \"data\""
      ],
      "metadata": {
        "id": "SyirGK0XL7OE"
      }
    },
    {
      "cell_type": "code",
      "source": [
        "data[\"condition\"].value_counts()"
      ],
      "metadata": {
        "id": "c8xiCyzhF-sG"
      },
      "execution_count": null,
      "outputs": []
    },
    {
      "cell_type": "markdown",
      "source": [
        "This statement will return a Series where the index represents unique values in the \"condition\" column, and the corresponding values represent the count of each unique condition. By using this we can understand the distribution of different conditions in our dataset."
      ],
      "metadata": {
        "id": "2c4_0wBSNAVe"
      }
    },
    {
      "cell_type": "code",
      "source": [
        "data[\"condition\"].fillna(value=data[\"condition\"].value_counts().index[data[\"condition\"].value_counts().argmax()],\n",
        "                         inplace=True)"
      ],
      "metadata": {
        "id": "jzDKEOB6GJkt"
      },
      "execution_count": null,
      "outputs": []
    },
    {
      "cell_type": "markdown",
      "source": [
        "This code is filling missing values in the \"condition\" column with the most common condition found in the existing data."
      ],
      "metadata": {
        "id": "VYqFJfV2NrF-"
      }
    },
    {
      "cell_type": "code",
      "source": [
        "data[\"paint_color\"].fillna(value=data[\"paint_color\"].value_counts().index[data[\"paint_color\"].value_counts().argmax()],\n",
        "                           inplace=True)"
      ],
      "metadata": {
        "id": "t4c__ps0GMJN"
      },
      "execution_count": null,
      "outputs": []
    },
    {
      "cell_type": "markdown",
      "source": [
        "This code is filling missing values in the \"paint_color\" column with the most common condition found in the existing data."
      ],
      "metadata": {
        "id": "rI18FakcN4r1"
      }
    },
    {
      "cell_type": "code",
      "source": [
        "data[\"transmission\"].fillna(value=data[\"transmission\"].value_counts().index[data[\"transmission\"].value_counts().argmax()],\n",
        "                           inplace=True)"
      ],
      "metadata": {
        "id": "BQVVdyrQGOil"
      },
      "execution_count": null,
      "outputs": []
    },
    {
      "cell_type": "markdown",
      "source": [
        "This code is filling missing values in the \"transmission\" column with the most common condition found in the existing data."
      ],
      "metadata": {
        "id": "n1j0H9rsN0Fl"
      }
    },
    {
      "cell_type": "code",
      "source": [
        "crosstab_df_mdl_yr_mfc = pd.crosstab(data[\"model\"],\n",
        " [data[\"year\"],data[\"manufacturer\"]],rownames=[\"model\"],\n",
        "                                     colnames=[\"year\",\"manufacturer\"])"
      ],
      "metadata": {
        "id": "FLbVHEnVGQwN"
      },
      "execution_count": null,
      "outputs": []
    },
    {
      "cell_type": "markdown",
      "source": [
        "In above statement we have used crosstab function. This function is used to compute a simple cross-tabulation of two (or more) factors. It's essentially creating a contingency table that shows the counts of different combinations of \"model,\" \"year,\" and \"manufacturer.\""
      ],
      "metadata": {
        "id": "InZntnaoPVAt"
      }
    },
    {
      "cell_type": "code",
      "source": [
        "mapping_dict = dict()\n",
        "\n",
        "for single_col in crosstab_df_mdl_yr_mfc.columns:\n",
        "  mapping_dict[single_col] = crosstab_df_mdl_yr_mfc[single_col].index[crosstab_df_mdl_yr_mfc[single_col].argmax()]"
      ],
      "metadata": {
        "id": "nQUrOq1mGTaF"
      },
      "execution_count": null,
      "outputs": []
    },
    {
      "cell_type": "markdown",
      "source": [
        "This loop creates a dictionary mapping_dict where keys are the column names (combinations of \"year\" and \"manufacturer\") in the crosstab result, and values are the corresponding \"model\" values with the maximum count for each combination. the code is using crosstabulation to find the most common \"model\" for each combination of \"year\" and \"manufacturer\" and then filling missing values in the \"model\" column based on this information."
      ],
      "metadata": {
        "id": "qL08ISj-PxYt"
      }
    },
    {
      "cell_type": "code",
      "source": [
        "mapping_dict"
      ],
      "metadata": {
        "id": "9SoDK9prGVmG",
        "colab": {
          "base_uri": "https://localhost:8080/"
        },
        "outputId": "17692cb7-e009-4bae-97df-99334fe73859"
      },
      "execution_count": null,
      "outputs": [
        {
          "output_type": "execute_result",
          "data": {
            "text/plain": [
              "{(1900.0, 'acura'): 'rdx',\n",
              " (1905.0, 'chevrolet'): 'astro cargo',\n",
              " (1913.0, 'cadillac'): 'touring car',\n",
              " (1913.0, 'ford'): '\"t\"',\n",
              " (1918.0, 'ford'): 'model t',\n",
              " (1923.0, 'ford'): 't bucket',\n",
              " (1924.0, 'dodge'): 'phaeton',\n",
              " (1924.0, 'ford'): 'model t',\n",
              " (1925.0, 'ford'): 'model t',\n",
              " (1926.0, 'ford'): 'model t',\n",
              " (1927.0, 'chevrolet'): 'coupe',\n",
              " (1927.0, 'chrysler'): '60 series',\n",
              " (1927.0, 'ford'): 'model t',\n",
              " (1928.0, 'cadillac'): 'coupe',\n",
              " (1928.0, 'chevrolet'): '4x4 pickup',\n",
              " (1928.0, 'dodge'): 'hotrod',\n",
              " (1928.0, 'ford'): 'model a',\n",
              " (1929.0, 'dodge'): 'da coupe',\n",
              " (1929.0, 'ford'): 'model a',\n",
              " (1930.0, 'chevrolet'): 'coupe',\n",
              " (1930.0, 'dodge'): 'dc8',\n",
              " (1930.0, 'ford'): 'model a',\n",
              " (1931.0, 'chevrolet'): '5 window coupe',\n",
              " (1931.0, 'ford'): 'model a',\n",
              " (1932.0, 'chevrolet'): 'coupe',\n",
              " (1932.0, 'chrysler'): 'rat rod',\n",
              " (1932.0, 'ford'): 'roadster',\n",
              " (1932.0, 'pontiac'): 'coupe',\n",
              " (1933.0, 'chevrolet'): 'coupe',\n",
              " (1933.0, 'ford'): '3 window pro street coupe',\n",
              " (1934.0, 'chevrolet'): 'sedan',\n",
              " (1934.0, 'dodge'): 'sedan',\n",
              " (1934.0, 'ford'): '5 window coupe',\n",
              " (1935.0, 'chevrolet'): 'coupe',\n",
              " (1935.0, 'dodge'): 'pickup',\n",
              " (1935.0, 'ford'): 'five window coupe',\n",
              " (1936.0, 'buick'): '40 series coupe',\n",
              " (1936.0, 'chevrolet'): '2 door',\n",
              " (1936.0, 'dodge'): 'coupe',\n",
              " (1936.0, 'ford'): '68',\n",
              " (1936.0, 'pontiac'): '4 door',\n",
              " (1937.0, 'cadillac'): 'lasalle',\n",
              " (1937.0, 'chevrolet'): '2 door sedan custom',\n",
              " (1937.0, 'dodge'): 'd-5',\n",
              " (1937.0, 'ford'): 'coupe',\n",
              " (1937.0, 'jaguar'): 'roadster',\n",
              " (1937.0, 'pontiac'): 'hot rod',\n",
              " (1938.0, 'buick'): 'special',\n",
              " (1938.0, 'cadillac'): 'lasalle',\n",
              " (1938.0, 'chevrolet'): 'coupe',\n",
              " (1938.0, 'dodge'): 'brothers',\n",
              " (1938.0, 'ford'): 'expedition',\n",
              " (1938.0, 'jaguar'): 'ss100',\n",
              " (1938.0, 'pontiac'): 'silver streak',\n",
              " (1939.0, 'buick'): 'century',\n",
              " (1939.0, 'chevrolet'): 'business coupe',\n",
              " (1939.0, 'dodge'): 'coe',\n",
              " (1939.0, 'ford'): 'delivery panel truck',\n",
              " (1939.0, 'gmc'): 'classic flatbed',\n",
              " (1939.0, 'mercury'): '351 windsor',\n",
              " (1939.0, 'pontiac'): 'silver streak',\n",
              " (1940.0, 'buick'): 'eight',\n",
              " (1940.0, 'cadillac'): 'lasalle',\n",
              " (1940.0, 'chevrolet'): 'coupe',\n",
              " (1940.0, 'ford'): 'coupe',\n",
              " (1940.0, 'mercury'): 'coupe',\n",
              " (1940.0, 'pontiac'): 'silver streak',\n",
              " (1941.0, 'buick'): 'century',\n",
              " (1941.0, 'chevrolet'): 'pickup',\n",
              " (1941.0, 'ford'): 'coe',\n",
              " (1941.0, 'lincoln'): 'continental',\n",
              " (1941.0, 'pontiac'): 'chiefton',\n",
              " (1942.0, 'chevrolet'): 'master deluxe',\n",
              " (1942.0, 'ford'): 'truck',\n",
              " (1944.0, 'jeep'): 'ww2',\n",
              " (1946.0, 'chevrolet'): 'truck',\n",
              " (1946.0, 'dodge'): '1 ton power wagon',\n",
              " (1946.0, 'ford'): 'super deluxe',\n",
              " (1946.0, 'gmc'): 'cc102',\n",
              " (1946.0, 'jeep'): 'willys',\n",
              " (1947.0, 'chevrolet'): 'truck',\n",
              " (1947.0, 'dodge'): 'sedan',\n",
              " (1947.0, 'ford'): 'coupe',\n",
              " (1947.0, 'gmc'): 'panel',\n",
              " (1947.0, 'lincoln'): 'zephyr',\n",
              " (1947.0, 'mercury'): 'eight',\n",
              " (1947.0, 'pontiac'): 'streamliner',\n",
              " (1948.0, 'cadillac'): 'series 75',\n",
              " (1948.0, 'chevrolet'): 'coupe',\n",
              " (1948.0, 'dodge'): 'truck',\n",
              " (1948.0, 'ford'): 'tudor sedan',\n",
              " (1948.0, 'gmc'): 'fc101',\n",
              " (1948.0, 'jeep'): 'willeys',\n",
              " (1949.0, 'chevrolet'): '3100',\n",
              " (1949.0, 'dodge'): 'coronet coupe',\n",
              " (1949.0, 'ford'): 'custom',\n",
              " (1949.0, 'gmc'): 'truck',\n",
              " (1950.0, 'chevrolet'): 'coupe',\n",
              " (1950.0, 'chrysler'): 'town country',\n",
              " (1950.0, 'dodge'): 'meadowbrook',\n",
              " (1950.0, 'ford'): 'coupe',\n",
              " (1950.0, 'mercury'): 'custom',\n",
              " (1951.0, 'buick'): 'special',\n",
              " (1951.0, 'chevrolet'): 'styleline deluxe',\n",
              " (1951.0, 'dodge'): 'b-3-b',\n",
              " (1951.0, 'ford'): 'custom',\n",
              " (1951.0, 'jeep'): 'cj 3a willys',\n",
              " (1951.0, 'mercury'): 'monterey',\n",
              " (1951.0, 'pontiac'): 'chiefton',\n",
              " (1952.0, 'buick'): 'super',\n",
              " (1952.0, 'chevrolet'): '3100',\n",
              " (1952.0, 'chrysler'): 'town and country',\n",
              " (1952.0, 'dodge'): '150 pkup',\n",
              " (1952.0, 'ford'): 'f1',\n",
              " (1952.0, 'gmc'): 'm135',\n",
              " (1952.0, 'mercury'): 'monterey',\n",
              " (1953.0, 'chevrolet'): '210',\n",
              " (1953.0, 'dodge'): 'coronet',\n",
              " (1953.0, 'ford'): 'customline',\n",
              " (1953.0, 'jeep'): \"willy's cj3-a\",\n",
              " (1953.0, 'mercury'): 'monterey',\n",
              " (1954.0, 'buick'): 'super',\n",
              " (1954.0, 'chevrolet'): '037',\n",
              " (1954.0, 'chrysler'): 'desoto',\n",
              " (1954.0, 'dodge'): 'm-37',\n",
              " (1954.0, 'ford'): 'cresline',\n",
              " (1954.0, 'lincoln'): 'capri',\n",
              " (1954.0, 'mercury'): 'sun valley',\n",
              " (1954.0, 'pontiac'): '4 door',\n",
              " (1955.0, 'buick'): 'roadmaster',\n",
              " (1955.0, 'cadillac'): 'fleetwood',\n",
              " (1955.0, 'chevrolet'): 'other',\n",
              " (1955.0, 'chrysler'): 'windsor deluxe',\n",
              " (1955.0, 'dodge'): 'pickup',\n",
              " (1955.0, 'ford'): 'thunderbird',\n",
              " (1955.0, 'jaguar'): 'xk',\n",
              " (1955.0, 'lincoln'): 'capri',\n",
              " (1955.0, 'mercedes-benz'): 'benz 220s sedan',\n",
              " (1955.0, 'pontiac'): 'chieftain',\n",
              " (1955.0, 'porsche'): '356 speedster',\n",
              " (1956.0, 'buick'): 'super',\n",
              " (1956.0, 'cadillac'): '62 series',\n",
              " (1956.0, 'chevrolet'): '210',\n",
              " (1956.0, 'dodge'): 'desoto fireflight',\n",
              " (1956.0, 'ford'): 'victoria',\n",
              " (1956.0, 'jeep'): 'cj6',\n",
              " (1956.0, 'mercury'): 'montcliar',\n",
              " (1956.0, 'pontiac'): 'chieften',\n",
              " (1956.0, 'volkswagen'): 'bug',\n",
              " (1957.0, 'cadillac'): 'series 62',\n",
              " (1957.0, 'chevrolet'): 'bel-air',\n",
              " (1957.0, 'chrysler'): 's/w',\n",
              " (1957.0, 'dodge'): 'power wagon',\n",
              " (1957.0, 'ford'): 'thunderbird convertible',\n",
              " (1957.0, 'gmc'): 'lcf 2 ton dually',\n",
              " (1957.0, 'jeep'): 'willy’s',\n",
              " (1957.0, 'mercury'): 'montclair',\n",
              " (1957.0, 'pontiac'): 'super chief',\n",
              " (1957.0, 'volkswagen'): 'beetle',\n",
              " (1958.0, 'cadillac'): 'series 62',\n",
              " (1958.0, 'chevrolet'): 'del ray',\n",
              " (1958.0, 'ford'): 'custom 300',\n",
              " (1958.0, 'jeep'): 'fcw',\n",
              " (1958.0, 'lincoln'): 'continental mark iii',\n",
              " (1958.0, 'mercury'): 'medalist',\n",
              " (1958.0, 'pontiac'): 'star chief',\n",
              " (1959.0, 'chevrolet'): 'apache',\n",
              " (1959.0, 'dodge'): '500',\n",
              " (1959.0, 'ford'): 'f100',\n",
              " (1959.0, 'gmc'): '100 pick-up truck',\n",
              " (1959.0, 'jaguar'): 'xk150 se dhc',\n",
              " (1959.0, 'rover'): 'p5 saloon',\n",
              " (1960.0, 'chevrolet'): 'corvette',\n",
              " (1960.0, 'ford'): 'thunderbird',\n",
              " (1960.0, 'jeep'): 'cj-5',\n",
              " (1960.0, 'lincoln'): 'continental mark v',\n",
              " (1960.0, 'pontiac'): 'bonneville',\n",
              " (1960.0, 'volkswagen'): 'beetle',\n",
              " (1961.0, 'buick'): 'electra 225',\n",
              " (1961.0, 'chevrolet'): 'apache',\n",
              " (1961.0, 'ford'): 'f100',\n",
              " (1961.0, 'mercedes-benz'): '300d',\n",
              " (1961.0, 'mini'): 'cooper',\n",
              " (1961.0, 'pontiac'): 'bonneville',\n",
              " (1962.0, 'buick'): 'invita',\n",
              " (1962.0, 'cadillac'): 'convertible',\n",
              " (1962.0, 'chevrolet'): 'corvair',\n",
              " (1962.0, 'chrysler'): 'tc by maserati',\n",
              " (1962.0, 'dodge'): 'polara 500',\n",
              " (1962.0, 'ferrari'): 'kit car',\n",
              " (1962.0, 'ford'): 'f100',\n",
              " (1962.0, 'gmc'): '1500',\n",
              " (1962.0, 'jeep'): 'cj-3b',\n",
              " (1962.0, 'mercedes-benz'): '220se coupe',\n",
              " (1962.0, 'mercury'): 's22 comet',\n",
              " (1962.0, 'pontiac'): 'tempest lemans',\n",
              " (1962.0, 'toyota'): 'fj40 landcruiser',\n",
              " (1962.0, 'volkswagen'): 'beetle',\n",
              " (1962.0, 'volvo'): '544',\n",
              " (1963.0, 'buick'): 'riviera',\n",
              " (1963.0, 'chevrolet'): 'impala',\n",
              " (1963.0, 'chrysler'): 'crown imperial',\n",
              " (1963.0, 'dodge'): 'd100',\n",
              " (1963.0, 'ford'): 'galaxie 500 convertible',\n",
              " (1963.0, 'gmc'): 'pickup',\n",
              " (1963.0, 'jeep'): 'cj-6',\n",
              " (1963.0, 'lincoln'): 'continental',\n",
              " (1963.0, 'mercedes-benz'): 'benz 220se',\n",
              " (1963.0, 'mercury'): 'comet',\n",
              " (1963.0, 'pontiac'): 'bonneville',\n",
              " (1963.0, 'volvo'): '122s',\n",
              " (1964.0, 'buick'): 'riviera',\n",
              " (1964.0, 'cadillac'): 'convertible project',\n",
              " (1964.0, 'chevrolet'): 'malibu',\n",
              " (1964.0, 'chrysler'): 'imperial crown coupe',\n",
              " (1964.0, 'dodge'): 'dart gt',\n",
              " (1964.0, 'ford'): 'fairlane 500',\n",
              " (1964.0, 'mercedes-benz'): 'benz unimog',\n",
              " (1964.0, 'mercury'): 'monterey',\n",
              " (1964.0, 'pontiac'): 'bonneville',\n",
              " (1964.0, 'rover'): 'defender',\n",
              " (1964.0, 'volkswagen'): 'bug',\n",
              " (1964.0, 'volvo'): '122',\n",
              " (1965.0, 'buick'): 'skylark',\n",
              " (1965.0, 'cadillac'): 'sedan de ville',\n",
              " (1965.0, 'chevrolet'): 'chevelle',\n",
              " (1965.0, 'chrysler'): \"300 'l'\",\n",
              " (1965.0, 'dodge'): 'dart',\n",
              " (1965.0, 'ford'): 'mustang',\n",
              " (1965.0, 'gmc'): 'coca-cola handivan',\n",
              " (1965.0, 'harley-davidson'): 'davidson',\n",
              " (1965.0, 'jeep'): 'j200 gladiator',\n",
              " (1965.0, 'mercedes-benz'): '220s / 3.0',\n",
              " (1965.0, 'mercury'): 'comet caliente',\n",
              " (1965.0, 'pontiac'): 'lemans',\n",
              " (1965.0, 'porsche'): '912',\n",
              " (1965.0, 'toyota'): 'landcruiser fj40',\n",
              " (1965.0, 'volkswagen'): 'beetle',\n",
              " (1965.0, 'volvo'): 'amazon',\n",
              " (1966.0, 'buick'): 'riviera',\n",
              " (1966.0, 'cadillac'): 'coupe deville',\n",
              " (1966.0, 'chevrolet'): 'c10',\n",
              " (1966.0, 'chrysler'): '300',\n",
              " (1966.0, 'datsun'): 'roadster',\n",
              " (1966.0, 'dodge'): 'coronet 440',\n",
              " (1966.0, 'ford'): 'mustang',\n",
              " (1966.0, 'jaguar'): '3.8s sedan',\n",
              " (1966.0, 'jeep'): 'gladiator',\n",
              " (1966.0, 'lincoln'): 'continental',\n",
              " (1966.0, 'mercedes-benz'): 'se cabriolet',\n",
              " (1966.0, 'pontiac'): 'bonneville',\n",
              " (1966.0, 'volkswagen'): 'beetle',\n",
              " (1966.0, 'volvo'): '122',\n",
              " (1967.0, 'buick'): 'gs 400',\n",
              " (1967.0, 'chevrolet'): 'el camino',\n",
              " (1967.0, 'dodge'): 'charger',\n",
              " (1967.0, 'ford'): 'mustang',\n",
              " (1967.0, 'gmc'): '2500',\n",
              " (1967.0, 'lincoln'): 'continental sedan',\n",
              " (1967.0, 'mercury'): 'cougar',\n",
              " (1967.0, 'mini'): 'moke',\n",
              " (1967.0, 'pontiac'): 'firebird',\n",
              " (1967.0, 'porsche'): '911',\n",
              " (1967.0, 'volkswagen'): 'beetle',\n",
              " (1967.0, 'volvo'): 'p1800',\n",
              " (1968.0, 'buick'): 'riviera',\n",
              " (1968.0, 'cadillac'): 'coupe deville',\n",
              " (1968.0, 'chevrolet'): 'camaro',\n",
              " (1968.0, 'chrysler'): '300',\n",
              " (1968.0, 'datsun'): '1600',\n",
              " (1968.0, 'dodge'): 'dart',\n",
              " (1968.0, 'ford'): 'mustang',\n",
              " (1968.0, 'gmc'): '2500 4x4',\n",
              " (1968.0, 'jeep'): 'cj5',\n",
              " (1968.0, 'mercedes-benz'): 'benz 200d',\n",
              " (1968.0, 'mercury'): 'cougar',\n",
              " (1968.0, 'mini'): 'cooper',\n",
              " (1968.0, 'pontiac'): 'firebird',\n",
              " (1968.0, 'porsche'): '912',\n",
              " (1968.0, 'toyota'): 'fj40',\n",
              " (1968.0, 'volkswagen'): 'beetle',\n",
              " (1969.0, 'buick'): 'electra 225',\n",
              " (1969.0, 'cadillac'): 'deville',\n",
              " (1969.0, 'chevrolet'): 'camaro',\n",
              " (1969.0, 'datsun'): '1600 roadster',\n",
              " (1969.0, 'dodge'): 'a100',\n",
              " (1969.0, 'ford'): 'mustang',\n",
              " (1969.0, 'gmc'): 'custom 1500',\n",
              " (1969.0, 'jaguar'): 'e type',\n",
              " (1969.0, 'jeep'): 'cj5',\n",
              " (1969.0, 'lincoln'): 'continental mk iii',\n",
              " (1969.0, 'mercury'): 'cougar',\n",
              " (1969.0, 'pontiac'): 'gto',\n",
              " (1969.0, 'porsche'): '911 s',\n",
              " (1969.0, 'rover'): 'serieslla',\n",
              " (1969.0, 'toyota'): 'corona',\n",
              " (1969.0, 'volkswagen'): 'beetle',\n",
              " (1970.0, 'buick'): 'gs 455 4 speed',\n",
              " (1970.0, 'cadillac'): 'deville',\n",
              " (1970.0, 'chevrolet'): 'c10',\n",
              " (1970.0, 'chrysler'): 'hurst',\n",
              " (1970.0, 'dodge'): 'challenger',\n",
              " (1970.0, 'fiat'): '850 spider',\n",
              " (1970.0, 'ford'): 'mustang',\n",
              " (1970.0, 'gmc'): '1500 custom pick up',\n",
              " (1970.0, 'jaguar'): 'xke roadster',\n",
              " (1970.0, 'jeep'): 'cj5',\n",
              " (1970.0, 'lincoln'): 'continental',\n",
              " (1970.0, 'pontiac'): 'catalina 400',\n",
              " (1970.0, 'volkswagen'): 'beetle',\n",
              " (1970.0, 'volvo'): 'p1800e',\n",
              " (1971.0, 'buick'): 'riviera',\n",
              " (1971.0, 'cadillac'): 'eldorado convertible',\n",
              " (1971.0, 'chevrolet'): 'el camino',\n",
              " (1971.0, 'datsun'): '240z',\n",
              " (1971.0, 'dodge'): 'demon',\n",
              " (1971.0, 'ford'): 'f250',\n",
              " (1971.0, 'gmc'): '1500',\n",
              " (1971.0, 'jaguar'): 'xke',\n",
              " (1971.0, 'jeep'): 'cj5',\n",
              " (1971.0, 'lincoln'): '/mercury comet',\n",
              " (1971.0, 'mercedes-benz'): '280 se',\n",
              " (1971.0, 'mercury'): 'cougar xr7',\n",
              " (1971.0, 'pontiac'): 'grand prix',\n",
              " (1971.0, 'porsche'): '911',\n",
              " (1971.0, 'toyota'): 'fj40 land cruiser',\n",
              " (1971.0, 'volkswagen'): 'super beetle',\n",
              " (1971.0, 'volvo'): '1800e',\n",
              " (1972.0, 'buick'): 'skylark sun coupe.',\n",
              " (1972.0, 'cadillac'): 'eldorado',\n",
              " (1972.0, 'chevrolet'): 'corvette',\n",
              " (1972.0, 'datsun'): '240z',\n",
              " (1972.0, 'dodge'): 'challenger',\n",
              " (1972.0, 'fiat'): '850',\n",
              " (1972.0, 'ford'): 'bronco',\n",
              " (1972.0, 'gmc'): '1500',\n",
              " (1972.0, 'jeep'): 'cj-5',\n",
              " (1972.0, 'lincoln'): 'continental mark iv',\n",
              " (1972.0, 'mercedes-benz'): '350sl',\n",
              " (1972.0, 'mercury'): 'cougar',\n",
              " (1972.0, 'pontiac'): 'lemans',\n",
              " (1972.0, 'porsche'): '914 1.7 l',\n",
              " (1972.0, 'toyota'): 'landcruiser',\n",
              " (1972.0, 'volkswagen'): 'beetle',\n",
              " (1972.0, 'volvo'): 'p1800',\n",
              " (1973.0, 'bmw'): '2002',\n",
              " (1973.0, 'buick'): 'century',\n",
              " (1973.0, 'cadillac'): 'eldorado convertible',\n",
              " (1973.0, 'chevrolet'): 'corvette',\n",
              " (1973.0, 'chrysler'): 'newport custom',\n",
              " (1973.0, 'datsun'): '240z',\n",
              " (1973.0, 'dodge'): 'charger',\n",
              " (1973.0, 'ford'): 'bronco',\n",
              " (1973.0, 'gmc'): 'sierra',\n",
              " (1973.0, 'honda'): 'accord',\n",
              " (1973.0, 'jaguar'): 'xj6',\n",
              " (1973.0, 'jeep'): 'cj5',\n",
              " (1973.0, 'lincoln'): 'continental',\n",
              " (1973.0, 'mercedes-benz'): 'benz 450sl',\n",
              " (1973.0, 'mercury'): 'cougar',\n",
              " (1973.0, 'pontiac'): 'gto',\n",
              " (1973.0, 'porsche'): '914',\n",
              " (1973.0, 'rover'): 'defender',\n",
              " (1973.0, 'toyota'): 'fj40',\n",
              " (1973.0, 'volkswagen'): 'super beetle',\n",
              " (1973.0, 'volvo'): 'p1800es',\n",
              " (1974.0, 'alfa-romeo'): 'romeo spider',\n",
              " (1974.0, 'bmw'): '2002',\n",
              " (1974.0, 'buick'): 'century',\n",
              " (1974.0, 'cadillac'): 'eldorado',\n",
              " (1974.0, 'chevrolet'): 'corvette',\n",
              " (1974.0, 'dodge'): 'w300',\n",
              " (1974.0, 'fiat'): 'x1/9',\n",
              " (1974.0, 'ford'): 'thunderbird',\n",
              " (1974.0, 'jeep'): 'cj5',\n",
              " (1974.0, 'lincoln'): 'mark iv',\n",
              " (1974.0, 'mercedes-benz'): '450 sl',\n",
              " (1974.0, 'mercury'): 'montego mx',\n",
              " (1974.0, 'mini'): 'cooper hardtop',\n",
              " (1974.0, 'pontiac'): 'grandville',\n",
              " (1974.0, 'volkswagen'): 'beetle',\n",
              " (1975.0, 'bmw'): '2002',\n",
              " (1975.0, 'buick'): 'lesabre',\n",
              " (1975.0, 'cadillac'): 'deville',\n",
              " (1975.0, 'chevrolet'): 'corvette',\n",
              " (1975.0, 'dodge'): 'dart',\n",
              " (1975.0, 'fiat'): '124 spider',\n",
              " (1975.0, 'ford'): 'ranchero gt',\n",
              " (1975.0, 'gmc'): 'sprint',\n",
              " (1975.0, 'jeep'): 'cj5',\n",
              " (1975.0, 'lincoln'): 'continental',\n",
              " (1975.0, 'mercedes-benz'): 'benz 450sl',\n",
              " (1975.0, 'mercury'): 'cougar xr7',\n",
              " (1975.0, 'pontiac'): 'firebird',\n",
              " (1975.0, 'porsche'): '914',\n",
              " (1975.0, 'toyota'): 'land cruiser',\n",
              " (1975.0, 'volkswagen'): 'beetle',\n",
              " (1976.0, 'alfa-romeo'): 'romeo gtv 2000',\n",
              " (1976.0, 'bmw'): '2002',\n",
              " (1976.0, 'cadillac'): 'seville',\n",
              " (1976.0, 'chevrolet'): 'corvette',\n",
              " (1976.0, 'datsun'): '280z',\n",
              " (1976.0, 'dodge'): 'd100',\n",
              " (1976.0, 'ford'): 'f250',\n",
              " (1976.0, 'gmc'): '6000',\n",
              " (1976.0, 'jeep'): 'cj5',\n",
              " (1976.0, 'lincoln'): 'mark iv',\n",
              " (1976.0, 'mercedes-benz'): 'benz 450 sel',\n",
              " (1976.0, 'mercury'): 'bobcat',\n",
              " (1976.0, 'pontiac'): 'trans am',\n",
              " (1976.0, 'porsche'): '914',\n",
              " (1976.0, 'rover'): 'series',\n",
              " (1976.0, 'toyota'): 'fj40',\n",
              " (1976.0, 'volkswagen'): 'beetle bug',\n",
              " (1977.0, 'bmw'): '320i',\n",
              " (1977.0, 'buick'): 'regal',\n",
              " (1977.0, 'cadillac'): 'fleetwood limo',\n",
              " (1977.0, 'chevrolet'): 'corvette',\n",
              " (1977.0, 'chrysler'): 'new yorker',\n",
              " (1977.0, 'dodge'): 'powerwagon',\n",
              " (1977.0, 'ford'): 'thunderbird',\n",
              " (1977.0, 'gmc'): 'sierra',\n",
              " (1977.0, 'jeep'): 'cj5',\n",
              " (1977.0, 'lincoln'): 'continental mark v',\n",
              " (1977.0, 'mercedes-benz'): 'benz 450sl',\n",
              " (1977.0, 'mercury'): 'grand marquis',\n",
              " (1977.0, 'pontiac'): 'firebird formula',\n",
              " (1977.0, 'toyota'): 'celica st',\n",
              " (1977.0, 'volkswagen'): 'beetle',\n",
              " (1978.0, 'alfa-romeo'): 'romeo spider',\n",
              " (1978.0, 'buick'): 'regal',\n",
              " (1978.0, 'cadillac'): 'seville',\n",
              " (1978.0, 'chevrolet'): 'corvette',\n",
              " (1978.0, 'chrysler'): 'new yorker',\n",
              " (1978.0, 'dodge'): 'aspen',\n",
              " (1978.0, 'fiat'): '124 spider',\n",
              " (1978.0, 'ford'): 'f250',\n",
              " (1978.0, 'gmc'): 'sierra',\n",
              " (1978.0, 'jaguar'): 'xj6',\n",
              " (1978.0, 'jeep'): 'cj5',\n",
              " (1978.0, 'lincoln'): 'continental',\n",
              " (1978.0, 'mercedes-benz'): 'benz',\n",
              " (1978.0, 'mercury'): 'cougar',\n",
              " (1978.0, 'pontiac'): 'trans am',\n",
              " (1978.0, 'porsche'): '924',\n",
              " (1978.0, 'toyota'): 'land cruiser',\n",
              " (1978.0, 'volkswagen'): 'beetle',\n",
              " (1979.0, 'buick'): 'estate wagon',\n",
              " (1979.0, 'cadillac'): 'deville 79',\n",
              " (1979.0, 'chevrolet'): 'corvette',\n",
              " (1979.0, 'chrysler'): 'cordoba',\n",
              " (1979.0, 'dodge'): 'power wagon',\n",
              " (1979.0, 'fiat'): 'x1/9',\n",
              " (1979.0, 'ford'): 'f-150',\n",
              " (1979.0, 'gmc'): 'sierra grande 25',\n",
              " (1979.0, 'jeep'): 'cj5',\n",
              " (1979.0, 'lincoln'): 'town car',\n",
              " (1979.0, 'mercedes-benz'): 'benz 450sl',\n",
              " (1979.0, 'mercury'): 'cougar xr7',\n",
              " (1979.0, 'nissan'): '280zx',\n",
              " (1979.0, 'pontiac'): 'firebird trans am',\n",
              " (1979.0, 'porsche'): '924 5-speed',\n",
              " (1979.0, 'toyota'): 'corolla',\n",
              " (1979.0, 'volkswagen'): 'super beetle',\n",
              " (1980.0, 'alfa-romeo'): 'romeo spider',\n",
              " (1980.0, 'cadillac'): 'deville',\n",
              " (1980.0, 'chevrolet'): 'corvette',\n",
              " (1980.0, 'chrysler'): 'new yorker',\n",
              " (1980.0, 'datsun'): '280zx',\n",
              " (1980.0, 'fiat'): '124 spider',\n",
              " (1980.0, 'ford'): 'mustang',\n",
              " (1980.0, 'gmc'): 'sierra classic jimmy',\n",
              " (1980.0, 'honda'): 'civic',\n",
              " (1980.0, 'jeep'): 'cj5',\n",
              " (1980.0, 'lincoln'): 'continental',\n",
              " (1980.0, 'mercedes-benz'): '450sl',\n",
              " (1980.0, 'pontiac'): 'firebird',\n",
              " (1980.0, 'porsche'): '928',\n",
              " (1980.0, 'subaru'): 'gl wagon',\n",
              " (1980.0, 'toyota'): 'celica gt',\n",
              " (1980.0, 'volkswagen'): 'camper',\n",
              " (1981.0, 'bmw'): '633 csi',\n",
              " (1981.0, 'cadillac'): 'eldorado',\n",
              " (1981.0, 'chevrolet'): 'corvette',\n",
              " (1981.0, 'datsun'): '280zx',\n",
              " (1981.0, 'dodge'): 'd 150',\n",
              " (1981.0, 'fiat'): '124 spider',\n",
              " (1981.0, 'ford'): 'f-150',\n",
              " (1981.0, 'gmc'): 'caballero',\n",
              " (1981.0, 'jeep'): 'cj7',\n",
              " (1981.0, 'lincoln'): 'mark vi',\n",
              " (1981.0, 'mazda'): 'rx7',\n",
              " (1981.0, 'mercedes-benz'): 'benz 380sl',\n",
              " (1981.0, 'nissan'): '280zx',\n",
              " (1981.0, 'pontiac'): 'firebird',\n",
              " (1981.0, 'porsche'): '928',\n",
              " (1981.0, 'toyota'): 'pickup',\n",
              " (1981.0, 'volkswagen'): 'rabbit',\n",
              " (1982.0, 'bmw'): '323i',\n",
              " (1982.0, 'cadillac'): 'coupe de ville',\n",
              " (1982.0, 'chevrolet'): 'corvette',\n",
              " (1982.0, 'chrysler'): 'cordoba',\n",
              " (1982.0, 'datsun'): '280zx',\n",
              " (1982.0, 'dodge'): '350',\n",
              " (1982.0, 'ford'): 'f100',\n",
              " (1982.0, 'gmc'): '2500 pick up',\n",
              " (1982.0, 'jaguar'): 'xj6',\n",
              " (1982.0, 'jeep'): 'cj',\n",
              " (1982.0, 'lincoln'): 'mark v1',\n",
              " (1982.0, 'mazda'): 'rx& gls sport',\n",
              " (1982.0, 'mercedes-benz'): '300d',\n",
              " (1982.0, 'mercury'): 'couger',\n",
              " (1982.0, 'pontiac'): 'firebird se',\n",
              " (1982.0, 'porsche'): '928s',\n",
              " (1982.0, 'ram'): '150',\n",
              " (1982.0, 'toyota'): '4runner sr5 4x4',\n",
              " (1982.0, 'volkswagen'): 'rabbit',\n",
              " (1982.0, 'volvo'): '245',\n",
              " (1983.0, 'bmw'): '320i',\n",
              " (1983.0, 'buick'): 'regal',\n",
              " (1983.0, 'cadillac'): 'brougham',\n",
              " (1983.0, 'chevrolet'): 'el camino',\n",
              " (1983.0, 'chrysler'): 'imperial',\n",
              " (1983.0, 'datsun'): '280zx',\n",
              " (1983.0, 'dodge'): 'd150',\n",
              " (1983.0, 'fiat'): '/ bertone x1/9',\n",
              " (1983.0, 'ford'): 'f-150 custom',\n",
              " (1983.0, 'gmc'): 'caballero',\n",
              " (1983.0, 'jaguar'): 'xj6',\n",
              " (1983.0, 'jeep'): 'cj7',\n",
              " (1983.0, 'lincoln'): 'mark vi',\n",
              " (1983.0, 'mercedes-benz'): '240d',\n",
              " (1983.0, 'mercury'): 'capri',\n",
              " (1983.0, 'nissan'): '280zx',\n",
              " (1983.0, 'pontiac'): 'firebird',\n",
              " (1983.0, 'porsche'): '928 s',\n",
              " (1983.0, 'rover'): 'series iii',\n",
              " (1983.0, 'toyota'): 'cressida',\n",
              " (1983.0, 'volkswagen'): 'rabbit convertible',\n",
              " (1983.0, 'volvo'): '245',\n",
              " (1984.0, 'alfa-romeo'): 'romeo spider veloce',\n",
              " (1984.0, 'bmw'): '318i',\n",
              " (1984.0, 'buick'): 'riviera',\n",
              " (1984.0, 'cadillac'): 'fleetwood brougham',\n",
              " (1984.0, 'chevrolet'): 'corvette',\n",
              " (1984.0, 'chrysler'): 'fifth avenue',\n",
              " (1984.0, 'datsun'): '300zx',\n",
              " (1984.0, 'dodge'): '600',\n",
              " (1984.0, 'ford'): 'bronco',\n",
              " (1984.0, 'gmc'): 'sierra',\n",
              " (1984.0, 'jeep'): 'cj7',\n",
              " (1984.0, 'lincoln'): 'town car',\n",
              " (1984.0, 'mazda'): 'b2000',\n",
              " (1984.0, 'mercedes-benz'): '380 sl',\n",
              " (1984.0, 'mitsubishi'): 'pajero',\n",
              " (1984.0, 'nissan'): '300zx coupe with t-tops',\n",
              " (1984.0, 'pontiac'): 'parisienne',\n",
              " (1984.0, 'porsche'): '944',\n",
              " (1984.0, 'ram'): 'charger',\n",
              " (1984.0, 'toyota'): 'land cruiser',\n",
              " (1984.0, 'volkswagen'): 'vanagon',\n",
              " (1984.0, 'volvo'): '240',\n",
              " (1985.0, 'alfa-romeo'): 'romeo spider graduate',\n",
              " (1985.0, 'audi'): '5000s',\n",
              " (1985.0, 'bmw'): '318i 2-door coupe',\n",
              " (1985.0, 'buick'): 'riviera',\n",
              " (1985.0, 'cadillac'): 'eldorado',\n",
              " (1985.0, 'chevrolet'): 'corvette',\n",
              " (1985.0, 'chrysler'): 'labaron',\n",
              " (1985.0, 'dodge'): 'ramcharger',\n",
              " (1985.0, 'fiat'): 'x1/9',\n",
              " (1985.0, 'ford'): 'mustang',\n",
              " (1985.0, 'gmc'): 'sierra 1500',\n",
              " (1985.0, 'honda'): 'civic',\n",
              " (1985.0, 'jaguar'): 'xj6',\n",
              " (1985.0, 'jeep'): 'cj-7',\n",
              " (1985.0, 'lincoln'): 'towncar',\n",
              " (1985.0, 'mazda'): 'rx7',\n",
              " (1985.0, 'mercedes-benz'): 'benz 380sl',\n",
              " (1985.0, 'mercury'): 'capri',\n",
              " (1985.0, 'nissan'): '300zx',\n",
              " (1985.0, 'pontiac'): 'grand prix',\n",
              " (1985.0, 'porsche'): '944',\n",
              " (1985.0, 'ram'): 'charger',\n",
              " (1985.0, 'subaru'): 'brat',\n",
              " (1985.0, 'toyota'): 'land cruiser',\n",
              " (1985.0, 'volkswagen'): 'vanagon',\n",
              " (1986.0, 'alfa-romeo'): 'remeo',\n",
              " (1986.0, 'bmw'): '635csi',\n",
              " (1986.0, 'buick'): 'grand national',\n",
              " (1986.0, 'cadillac'): 'coupe deville',\n",
              " (1986.0, 'chevrolet'): 'corvette',\n",
              " (1986.0, 'chrysler'): 'lebaron convertible',\n",
              " (1986.0, 'dodge'): 'charger',\n",
              " (1986.0, 'ferrari'): 'mondial cabriolet',\n",
              " (1986.0, 'ford'): 'f-350',\n",
              " (1986.0, 'gmc'): 'sierra',\n",
              " (1986.0, 'honda'): 'accord dx',\n",
              " (1986.0, 'jaguar'): 'xj6',\n",
              " (1986.0, 'jeep'): 'cj7',\n",
              " (1986.0, 'land rover'): 'defender 110',\n",
              " (1986.0, 'mazda'): 'rx-7',\n",
              " (1986.0, 'mercedes-benz'): 'benz',\n",
              " (1986.0, 'nissan'): '300zx',\n",
              " (1986.0, 'pontiac'): 'fiero',\n",
              " (1986.0, 'porsche'): '944 turbo',\n",
              " (1986.0, 'ram'): '1500',\n",
              " (1986.0, 'rover'): 'defender',\n",
              " (1986.0, 'toyota'): 'pickup',\n",
              " (1986.0, 'volkswagen'): 'vanagon westfalia',\n",
              " (1987.0, 'alfa-romeo'): 'romeo',\n",
              " (1987.0, 'bmw'): '325is',\n",
              " (1987.0, 'buick'): 'grand national',\n",
              " (1987.0, 'cadillac'): 'allante',\n",
              " (1987.0, 'chevrolet'): 'corvette',\n",
              " (1987.0, 'dodge'): 'dakota',\n",
              " (1987.0, 'ford'): 'f-150',\n",
              " (1987.0, 'gmc'): '7000',\n",
              " (1987.0, 'honda'): 'civic',\n",
              " (1987.0, 'jaguar'): 'xj6',\n",
              " (1987.0, 'jeep'): 'wrangler',\n",
              " (1987.0, 'mazda'): 'b2000',\n",
              " (1987.0, 'mercedes-benz'): '560',\n",
              " (1987.0, 'mercury'): 'cougar cls',\n",
              " (1987.0, 'nissan'): '300zx',\n",
              " (1987.0, 'pontiac'): 'fiero gt',\n",
              " (1987.0, 'porsche'): '924s',\n",
              " (1987.0, 'ram'): 'w150',\n",
              " (1987.0, 'subaru'): 'brat',\n",
              " (1987.0, 'toyota'): '4runner',\n",
              " (1987.0, 'volkswagen'): 'vanagon',\n",
              " (1987.0, 'volvo'): '240 wagon',\n",
              " (1988.0, 'alfa-romeo'): 'romeo spider graduate',\n",
              " (1988.0, 'bmw'): '325i',\n",
              " (1988.0, 'buick'): 'park avenue',\n",
              " (1988.0, 'cadillac'): 'deville',\n",
              " (1988.0, 'chevrolet'): 'corvette',\n",
              " (1988.0, 'chrysler'): 'conquest',\n",
              " (1988.0, 'dodge'): 'dakota',\n",
              " (1988.0, 'ford'): 'f-150',\n",
              " (1988.0, 'gmc'): '6000',\n",
              " (1988.0, 'honda'): 'accord',\n",
              " (1988.0, 'jaguar'): 'xjs v12',\n",
              " (1988.0, 'jeep'): 'wrangler',\n",
              " (1988.0, 'lincoln'): 'town car',\n",
              " (1988.0, 'mercedes-benz'): 'benz 300ce',\n",
              " (1988.0, 'mercury'): 'grand marquis',\n",
              " (1988.0, 'nissan'): '300zx',\n",
              " (1988.0, 'pontiac'): 'firebird',\n",
              " (1988.0, 'porsche'): '924s',\n",
              " (1988.0, 'ram'): '1500',\n",
              " (1988.0, 'rover'): 'classic',\n",
              " (1988.0, 'toyota'): 'pickup',\n",
              " (1989.0, 'bmw'): '325i',\n",
              " (1989.0, 'buick'): 'reatta',\n",
              " (1989.0, 'cadillac'): 'allante',\n",
              " (1989.0, 'chevrolet'): 'corvette',\n",
              " (1989.0, 'chrysler'): 'tc by maserati',\n",
              " (1989.0, 'dodge'): '1989 cummins truck',\n",
              " (1989.0, 'ford'): 'f-150',\n",
              " (1989.0, 'gmc'): 'sierra',\n",
              " (1989.0, 'honda'): 'accord lx',\n",
              " (1989.0, 'jaguar'): 'xj6',\n",
              " (1989.0, 'jeep'): 'wrangler',\n",
              " (1989.0, 'lincoln'): 'town car',\n",
              " (1989.0, 'mazda'): 'b2200 truck',\n",
              " (1989.0, 'mercedes-benz'): '300 e',\n",
              " (1989.0, 'mercury'): 'cougar',\n",
              " (1989.0, 'mitsubishi'): 'galant',\n",
              " (1989.0, 'nissan'): 'd21 hardbody',\n",
              " (1989.0, 'pontiac'): 'firebird',\n",
              " (1989.0, 'ram'): 'b350',\n",
              " (1989.0, 'rover'): 'defender 90',\n",
              " (1989.0, 'toyota'): '4runner',\n",
              " (1989.0, 'volkswagen'): 'jetta gt',\n",
              " (1989.0, 'volvo'): '240 dl',\n",
              " (1990.0, 'alfa-romeo'): 'romeo spider',\n",
              " (1990.0, 'bmw'): '325i coupe',\n",
              " (1990.0, 'buick'): 'reatta',\n",
              " (1990.0, 'cadillac'): 'deville',\n",
              " (1990.0, 'chevrolet'): 'corvette',\n",
              " (1990.0, 'chrysler'): 'tc by maserati',\n",
              " (1990.0, 'dodge'): 'dakota',\n",
              " (1990.0, 'ford'): 'mustang',\n",
              " (1990.0, 'gmc'): 'vandura 3500',\n",
              " (1990.0, 'honda'): 'accord lx',\n",
              " (1990.0, 'jaguar'): 'vanden plas',\n",
              " (1990.0, 'jeep'): 'wrangler',\n",
              " (1990.0, 'lexus'): 'ls 400',\n",
              " (1990.0, 'lincoln'): 'towncar',\n",
              " (1990.0, 'mazda'): 'mx-5 miata',\n",
              " (1990.0, 'mercedes-benz'): '300ce',\n",
              " (1990.0, 'mercury'): 'grand marquis',\n",
              " (1990.0, 'nissan'): '300zx coupe with t-tops',\n",
              " (1990.0, 'pontiac'): 'grand am',\n",
              " (1990.0, 'porsche'): '944 s2 cabriolet',\n",
              " (1990.0, 'ram'): 'd150',\n",
              " (1990.0, 'rover'): 'defender 110',\n",
              " (1990.0, 'toyota'): 'pickup',\n",
              " (1990.0, 'volkswagen'): 'vanagon',\n",
              " (1990.0, 'volvo'): '240 dl',\n",
              " (1991.0, 'acura'): 'nsx',\n",
              " (1991.0, 'alfa-romeo'): 'romeo 164',\n",
              " (1991.0, 'audi'): '80 quattro',\n",
              " (1991.0, 'bmw'): '318i',\n",
              " (1991.0, 'buick'): 'reatta',\n",
              " (1991.0, 'cadillac'): 'brougham',\n",
              " (1991.0, 'chevrolet'): 'corvette',\n",
              " (1991.0, 'chrysler'): 'le baron',\n",
              " (1991.0, 'dodge'): 'd350',\n",
              " (1991.0, 'fiat'): 'custom',\n",
              " (1991.0, 'ford'): 'f-150',\n",
              " (1991.0, 'gmc'): 'sierra',\n",
              " (1991.0, 'honda'): 'acty',\n",
              " (1991.0, 'jaguar'): 'xj6 vanden plas',\n",
              " (1991.0, 'jeep'): 'wrangler',\n",
              " (1991.0, 'lexus'): 'ls400',\n",
              " (1991.0, 'lincoln'): 'lsc mark vii',\n",
              " (1991.0, 'mazda'): 'miata',\n",
              " (1991.0, 'mercedes-benz'): 'benz 560 sec',\n",
              " (1991.0, 'mercury'): 'capri',\n",
              " (1991.0, 'mitsubishi'): '3000gt sl',\n",
              " (1991.0, 'nissan'): '300zx',\n",
              " (1991.0, 'pontiac'): 'firebird formula',\n",
              " (1991.0, 'porsche'): '928 s4',\n",
              " (1991.0, 'ram'): 'w250',\n",
              " (1991.0, 'rover'): 'defender 110',\n",
              " (1991.0, 'toyota'): 'pickup',\n",
              " (1991.0, 'volkswagen'): 'vanagon',\n",
              " (1991.0, 'volvo'): '240',\n",
              " (1992.0, 'acura'): 'integra',\n",
              " (1992.0, 'bmw'): '325ic',\n",
              " (1992.0, 'buick'): 'riviera',\n",
              " (1992.0, 'cadillac'): 'allante',\n",
              " (1992.0, 'chevrolet'): 'silverado 1500',\n",
              " (1992.0, 'chrysler'): 'eagle premier',\n",
              " (1992.0, 'dodge'): 'stealth',\n",
              " (1992.0, 'ford'): 'econoline e350',\n",
              " (1992.0, 'gmc'): 'sierra',\n",
              " (1992.0, 'honda'): 'civic',\n",
              " (1992.0, 'infiniti'): 'm30 convertible',\n",
              " (1992.0, 'jaguar'): 'xj40',\n",
              " (1992.0, 'jeep'): 'wrangler',\n",
              " (1992.0, 'lexus'): 'sc300',\n",
              " (1992.0, 'lincoln'): 'town car',\n",
              " (1992.0, 'mazda'): 'mx-5 miata',\n",
              " (1992.0, 'mercedes-benz'): 'benz 600sel',\n",
              " (1992.0, 'mercury'): 'capri',\n",
              " (1992.0, 'mitsubishi'): 'minicab',\n",
              " (1992.0, 'nissan'): 'skyline gtr r32',\n",
              " (1992.0, 'pontiac'): 'firebird',\n",
              " (1992.0, 'porsche'): '968',\n",
              " (1992.0, 'ram'): '150',\n",
              " (1992.0, 'rover'): 'classic',\n",
              " (1992.0, 'toyota'): 'land cruiser prado',\n",
              " (1992.0, 'volkswagen'): 'cabriolet',\n",
              " (1992.0, 'volvo'): '240',\n",
              " (1993.0, 'acura'): 'integra gs',\n",
              " (1993.0, 'bmw'): '325i',\n",
              " (1993.0, 'buick'): 'roadmaster wagon',\n",
              " (1993.0, 'cadillac'): 'allante',\n",
              " (1993.0, 'chevrolet'): 'corvette',\n",
              " (1993.0, 'dodge'): 'dakota',\n",
              " (1993.0, 'ford'): 'f-150',\n",
              " (1993.0, 'gmc'): 'sierra',\n",
              " (1993.0, 'honda'): 'accord',\n",
              " (1993.0, 'infiniti'): 'j30',\n",
              " (1993.0, 'jeep'): 'wrangler',\n",
              " (1993.0, 'lexus'): 'ls-400',\n",
              " (1993.0, 'lincoln'): 'mark viii',\n",
              " (1993.0, 'mazda'): 'miata',\n",
              " (1993.0, 'mercedes-benz'): '500sl',\n",
              " (1993.0, 'mercury'): 'capri',\n",
              " (1993.0, 'mini'): 'cooper',\n",
              " (1993.0, 'mitsubishi'): '3000gt vr4',\n",
              " (1993.0, 'nissan'): 'caravan',\n",
              " (1993.0, 'pontiac'): 'firebird',\n",
              " (1993.0, 'ram'): '2500',\n",
              " (1993.0, 'saturn'): 'sl2',\n",
              " (1993.0, 'subaru'): 'impreza',\n",
              " (1993.0, 'toyota'): 'land cruiser fj80',\n",
              " (1993.0, 'volkswagen'): 'cabriolet convertible',\n",
              " (1994.0, 'acura'): 'integra',\n",
              " (1994.0, 'bmw'): '318i convertible',\n",
              " (1994.0, 'buick'): 'century',\n",
              " (1994.0, 'cadillac'): 'deville',\n",
              " (1994.0, 'chevrolet'): 'silverado',\n",
              " (1994.0, 'chrysler'): 'concorde',\n",
              " (1994.0, 'dodge'): 'dakota',\n",
              " (1994.0, 'ford'): 'f-150',\n",
              " (1994.0, 'gmc'): 'top kick',\n",
              " (1994.0, 'honda'): 'accord',\n",
              " (1994.0, 'jaguar'): 'xjs',\n",
              " (1994.0, 'jeep'): 'wrangler',\n",
              " (1994.0, 'lexus'): 'ls400',\n",
              " (1994.0, 'lincoln'): 'town car',\n",
              " (1994.0, 'mazda'): 'b3000',\n",
              " (1994.0, 'mercedes-benz'): '230ge',\n",
              " (1994.0, 'mercury'): 'capri',\n",
              " (1994.0, 'mitsubishi'): '3000gt',\n",
              " (1994.0, 'nissan'): '240sx limited edition',\n",
              " (1994.0, 'pontiac'): 'firebird',\n",
              " (1994.0, 'porsche'): '968',\n",
              " (1994.0, 'ram'): '2500',\n",
              " (1994.0, 'saturn'): 'sl2',\n",
              " (1994.0, 'subaru'): 'impreza',\n",
              " (1994.0, 'toyota'): 'pickup',\n",
              " (1994.0, 'volvo'): '850 glts',\n",
              " (1995.0, 'acura'): 'integra',\n",
              " (1995.0, 'alfa-romeo'): 'romeo spider',\n",
              " (1995.0, 'audi'): 's6 avant',\n",
              " (1995.0, 'bmw'): '325i convertible',\n",
              " (1995.0, 'buick'): 'riviera',\n",
              " (1995.0, 'cadillac'): 'deville',\n",
              " (1995.0, 'chevrolet'): 'corvette',\n",
              " (1995.0, 'dodge'): 'dakota',\n",
              " (1995.0, 'ford'): 'f-150',\n",
              " (1995.0, 'gmc'): 'sierra',\n",
              " (1995.0, 'honda'): 'accord',\n",
              " (1995.0, 'jaguar'): 'xj6',\n",
              " (1995.0, 'jeep'): 'wrangler',\n",
              " (1995.0, 'lexus'): 'ls 400',\n",
              " (1995.0, 'lincoln'): 'town car',\n",
              " (1995.0, 'mazda'): 'miata',\n",
              " (1995.0, 'mercedes-benz'): 'benz',\n",
              " (1995.0, 'mercury'): 'grand marquis',\n",
              " (1995.0, 'mitsubishi'): 'delica l400',\n",
              " (1995.0, 'nissan'): 'pathfinder',\n",
              " (1995.0, 'pontiac'): 'firebird',\n",
              " (1995.0, 'porsche'): '911 carrera',\n",
              " (1995.0, 'ram'): '2500',\n",
              " (1995.0, 'rover'): 'county',\n",
              " (1995.0, 'saturn'): 'sl2',\n",
              " (1995.0, 'subaru'): 'legacy ls sedan',\n",
              " (1995.0, 'toyota'): '4runner',\n",
              " (1995.0, 'volkswagen'): 'eurovan',\n",
              " (1995.0, 'volvo'): '850 glt',\n",
              " (1996.0, 'acura'): '3.2tl',\n",
              " (1996.0, 'audi'): 'a6 2.8 quattro',\n",
              " (1996.0, 'bmw'): '318ti',\n",
              " (1996.0, 'buick'): 'lesabre',\n",
              " (1996.0, 'cadillac'): 'deville',\n",
              " (1996.0, 'chevrolet'): 'corvette',\n",
              " (1996.0, 'chrysler'): 'convertible',\n",
              " (1996.0, 'dodge'): 'dakota',\n",
              " (1996.0, 'ford'): 'f-250',\n",
              " (1996.0, 'gmc'): 'sierra 1500',\n",
              " (1996.0, 'honda'): 'accord',\n",
              " (1996.0, 'jaguar'): 'xjs',\n",
              " (1996.0, 'jeep'): 'cherokee',\n",
              " (1996.0, 'lexus'): 'ls 400',\n",
              " (1996.0, 'lincoln'): 'town car',\n",
              " (1996.0, 'mazda'): '626',\n",
              " (1996.0, 'mercedes-benz'): 'benz e320',\n",
              " (1996.0, 'mercury'): 'cougar',\n",
              " (1996.0, 'mini'): 'van',\n",
              " (1996.0, 'mitsubishi'): '3000gt',\n",
              " (1996.0, 'nissan'): 'd21 hardbody',\n",
              " (1996.0, 'pontiac'): 'firebird',\n",
              " (1996.0, 'porsche'): '911',\n",
              " (1996.0, 'ram'): '2500',\n",
              " (1996.0, 'rover'): '4.6',\n",
              " (1996.0, 'saturn'): 'sl',\n",
              " (1996.0, 'subaru'): 'impreza',\n",
              " (1996.0, 'toyota'): 'tacoma',\n",
              " (1996.0, 'volkswagen'): 'gti',\n",
              " (1996.0, 'volvo'): '850 glt',\n",
              " (1997.0, 'acura'): 'integra',\n",
              " (1997.0, 'aston-martin'): 'martin db7 volante',\n",
              " (1997.0, 'audi'): 'a4',\n",
              " (1997.0, 'bmw'): 'z3 roadster',\n",
              " (1997.0, 'buick'): 'lesabre',\n",
              " (1997.0, 'cadillac'): 'deville',\n",
              " (1997.0, 'chevrolet'): 'tahoe',\n",
              " (1997.0, 'chrysler'): 'sebring',\n",
              " (1997.0, 'dodge'): 'dakota',\n",
              " (1997.0, 'ford'): 'f-150',\n",
              " (1997.0, 'gmc'): 'sierra',\n",
              " (1997.0, 'honda'): 'civic',\n",
              " (1997.0, 'hyundai'): 'elantra gls',\n",
              " (1997.0, 'infiniti'): 'q45',\n",
              " (1997.0, 'jaguar'): 'xk8',\n",
              " (1997.0, 'jeep'): 'wrangler',\n",
              " (1997.0, 'land rover'): 'discovery i',\n",
              " (1997.0, 'lexus'): 'es 300',\n",
              " (1997.0, 'lincoln'): 'mark viii intech v8 lsc - moon roof - leather,heat',\n",
              " (1997.0, 'mazda'): 'b2300',\n",
              " (1997.0, 'mercedes-benz'): 'benz e420',\n",
              " (1997.0, 'mercury'): 'grand marquis',\n",
              " (1997.0, 'mitsubishi'): '3000gt sl',\n",
              " (1997.0, 'nissan'): 'maxima',\n",
              " (1997.0, 'pontiac'): 'firebird',\n",
              " (1997.0, 'porsche'): '911 carrera',\n",
              " (1997.0, 'ram'): '1500',\n",
              " (1997.0, 'rover'): 'discovery i',\n",
              " (1997.0, 'saturn'): 'sl1',\n",
              " (1997.0, 'subaru'): 'legacy outback',\n",
              " (1997.0, 'toyota'): '4runner',\n",
              " (1997.0, 'volkswagen'): 'eurovan camper',\n",
              " (1997.0, 'volvo'): '850',\n",
              " (1998.0, 'acura'): 'integra ls',\n",
              " (1998.0, 'audi'): 'a4 quattro',\n",
              " (1998.0, 'bmw'): '3-series',\n",
              " (1998.0, 'buick'): 'lesabre',\n",
              " (1998.0, 'cadillac'): 'deville',\n",
              " (1998.0, 'chevrolet'): 'silverado',\n",
              " (1998.0, 'chrysler'): 'cirrus',\n",
              " (1998.0, 'dodge'): 'durango',\n",
              " (1998.0, 'ford'): 'f-150',\n",
              " (1998.0, 'gmc'): 'sierra 2500',\n",
              " (1998.0, 'honda'): 'accord',\n",
              " (1998.0, 'infiniti'): 'q45',\n",
              " (1998.0, 'jaguar'): 'xj8',\n",
              " (1998.0, 'jeep'): 'wrangler',\n",
              " (1998.0, 'lexus'): 'es 300',\n",
              " (1998.0, 'lincoln'): 'town car',\n",
              " (1998.0, 'mazda'): 'b4000 4x4',\n",
              " (1998.0, 'mercedes-benz'): 'slk-class',\n",
              " (1998.0, 'mercury'): 'grand marquis',\n",
              " (1998.0, 'mitsubishi'): 'fuso fh211',\n",
              " (1998.0, 'nissan'): 'maxima',\n",
              " (1998.0, 'pontiac'): 'firebird',\n",
              " (1998.0, 'porsche'): 'boxster',\n",
              " (1998.0, 'ram'): '2500',\n",
              " (1998.0, 'rover'): 'discovery',\n",
              " (1998.0, 'saturn'): 'sedan',\n",
              " (1998.0, 'subaru'): 'legacy',\n",
              " (1998.0, 'toyota'): 'camry',\n",
              " (1998.0, 'volkswagen'): 'jetta',\n",
              " (1998.0, 'volvo'): 's90',\n",
              " (1999.0, 'acura'): 'tl',\n",
              " (1999.0, 'audi'): 'a4',\n",
              " (1999.0, 'bmw'): '323i',\n",
              " (1999.0, 'buick'): 'park avenue',\n",
              " (1999.0, 'cadillac'): 'deville',\n",
              " (1999.0, 'chevrolet'): 'tahoe',\n",
              " (1999.0, 'chrysler'): 'concorde lx',\n",
              " (1999.0, 'dodge'): 'dakota',\n",
              " (1999.0, 'ford'): 'f-150',\n",
              " (1999.0, 'gmc'): '1500 suburban',\n",
              " (1999.0, 'honda'): 'accord',\n",
              " (1999.0, 'infiniti'): 'g20',\n",
              " (1999.0, 'jaguar'): 'xj8',\n",
              " (1999.0, 'jeep'): 'wrangler',\n",
              " (1999.0, 'kia'): 'sportage ex',\n",
              " (1999.0, 'lexus'): 'es 300',\n",
              " (1999.0, 'lincoln'): 'town car',\n",
              " (1999.0, 'mazda'): 'miata',\n",
              " (1999.0, 'mercedes-benz'): 'clk-class',\n",
              " (1999.0, 'mercury'): 'grand marquis',\n",
              " (1999.0, 'mitsubishi'): '3000gt sl',\n",
              " (1999.0, 'nissan'): 'altima',\n",
              " (1999.0, 'pontiac'): 'firebird',\n",
              " (1999.0, 'porsche'): 'boxster',\n",
              " (1999.0, 'ram'): '1500',\n",
              " (1999.0, 'rover'): 'hse 4.6',\n",
              " (1999.0, 'saturn'): 'sl2',\n",
              " (1999.0, 'subaru'): 'legacy',\n",
              " (1999.0, 'toyota'): 'corolla',\n",
              " (1999.0, 'volkswagen'): 'jetta',\n",
              " (1999.0, 'volvo'): 's70',\n",
              " (2000.0, 'acura'): 'tl',\n",
              " (2000.0, 'audi'): 'tt',\n",
              " (2000.0, 'bmw'): '528i',\n",
              " (2000.0, 'buick'): 'century',\n",
              " (2000.0, 'cadillac'): 'deville',\n",
              " (2000.0, 'chevrolet'): 'silverado 1500',\n",
              " (2000.0, 'chrysler'): '300m',\n",
              " (2000.0, 'dodge'): 'dakota',\n",
              " (2000.0, 'ferrari'): '550 maranello',\n",
              " (2000.0, 'ford'): 'f-150',\n",
              " (2000.0, 'gmc'): 'sierra',\n",
              " (2000.0, 'harley-davidson'): 'davidson',\n",
              " (2000.0, 'honda'): 'accord',\n",
              " (2000.0, 'hyundai'): 'elantra',\n",
              " (2000.0, 'infiniti'): 'i30',\n",
              " (2000.0, 'jaguar'): 'xj',\n",
              " (2000.0, 'jeep'): 'cherokee',\n",
              " (2000.0, 'kia'): 'sephia',\n",
              " (2000.0, 'lexus'): 'rx300',\n",
              " (2000.0, 'lincoln'): 'town car',\n",
              " (2000.0, 'mazda'): 'miata',\n",
              " (2000.0, 'mercedes-benz'): 'benz e320',\n",
              " (2000.0, 'mercury'): 'grand marquis',\n",
              " (2000.0, 'mini'): 'van',\n",
              " (2000.0, 'mitsubishi'): 'eclipse',\n",
              " (2000.0, 'nissan'): 'pathfinder',\n",
              " (2000.0, 'pontiac'): 'grand prix gtp',\n",
              " (2000.0, 'porsche'): 'boxster',\n",
              " (2000.0, 'ram'): '1500',\n",
              " (2000.0, 'rover'): '4.6 hse',\n",
              " (2000.0, 'saturn'): 'ls2',\n",
              " (2000.0, 'subaru'): 'outback',\n",
              " (2000.0, 'toyota'): 'tundra',\n",
              " (2000.0, 'volkswagen'): 'jetta',\n",
              " (2000.0, 'volvo'): 's70',\n",
              " (2001.0, 'acura'): 'mdx',\n",
              " (2001.0, 'audi'): 'tt',\n",
              " (2001.0, 'bmw'): '325i',\n",
              " (2001.0, 'buick'): 'century',\n",
              " ...}"
            ]
          },
          "metadata": {},
          "execution_count": 34
        }
      ]
    },
    {
      "cell_type": "code",
      "source": [
        "for k in mapping_dict.keys():\n",
        "  boolean_mask = (data[\"year\"] == k[0]) & (data[\"manufacturer\"] == k[1])\n",
        "  data.loc[boolean_mask,\"model\"] = data.loc[boolean_mask,\"model\"].fillna(value=mapping_dict[k],inplace=False)"
      ],
      "metadata": {
        "id": "o136Z0iWGiNQ"
      },
      "execution_count": null,
      "outputs": []
    },
    {
      "cell_type": "markdown",
      "source": [
        "this loop iterates through the combinations of \"year\" and \"manufacturer\" in the mapping dictionary. For each combination, it creates a boolean mask to identify the corresponding rows in the DataFrame where the conditions are met. It then fills missing values in the \"model\" column for those specific rows using the most common \"model\" value associated with that combination."
      ],
      "metadata": {
        "id": "i9vMlVXhQ8Xw"
      }
    },
    {
      "cell_type": "code",
      "source": [
        "data.isna().sum()"
      ],
      "metadata": {
        "id": "HoOI-LIFGkxw",
        "colab": {
          "base_uri": "https://localhost:8080/"
        },
        "outputId": "9a0c9dfd-e4ec-473a-b618-755a9d4a1d6e"
      },
      "execution_count": null,
      "outputs": [
        {
          "output_type": "execute_result",
          "data": {
            "text/plain": [
              "price               0\n",
              "year                0\n",
              "manufacturer     4059\n",
              "model              27\n",
              "condition           0\n",
              "cylinders        1766\n",
              "fuel                0\n",
              "odometer            0\n",
              "transmission        0\n",
              "drive            2491\n",
              "size            36793\n",
              "type             1893\n",
              "paint_color      2856\n",
              "dtype: int64"
            ]
          },
          "metadata": {},
          "execution_count": 36
        }
      ]
    },
    {
      "cell_type": "code",
      "source": [
        "data[\"price\"].fillna(value=data[\"price\"].value_counts().index[data[\"price\"].value_counts().argmax()],\n",
        "                           inplace=True)"
      ],
      "metadata": {
        "id": "pVw8-sb0BLri"
      },
      "execution_count": null,
      "outputs": []
    },
    {
      "cell_type": "code",
      "source": [
        "data[\"year\"].fillna(value=data[\"year\"].value_counts().index[data[\"year\"].value_counts().argmax()],\n",
        "                           inplace=True)"
      ],
      "metadata": {
        "id": "CeXYF4vNCDmm"
      },
      "execution_count": null,
      "outputs": []
    },
    {
      "cell_type": "code",
      "source": [
        "data[\"manufacturer\"].fillna(value=data[\"manufacturer\"].value_counts().index[data[\"manufacturer\"].value_counts().argmax()],\n",
        "                           inplace=True)"
      ],
      "metadata": {
        "id": "wbJIfpNTCKc_"
      },
      "execution_count": null,
      "outputs": []
    },
    {
      "cell_type": "code",
      "source": [
        "data[\"model\"].fillna(value=data[\"model\"].value_counts().index[data[\"model\"].value_counts().argmax()],\n",
        "                           inplace=True)"
      ],
      "metadata": {
        "id": "_hK4Pyr7CTmt"
      },
      "execution_count": null,
      "outputs": []
    },
    {
      "cell_type": "code",
      "source": [
        "data[\"cylinders\"].fillna(value=data[\"cylinders\"].value_counts().index[data[\"cylinders\"].value_counts().argmax()],\n",
        "                           inplace=True)"
      ],
      "metadata": {
        "id": "IKBNnKY4Cpnl"
      },
      "execution_count": null,
      "outputs": []
    },
    {
      "cell_type": "code",
      "source": [
        "data[\"price\"].fillna(value=data[\"price\"].value_counts().index[data[\"price\"].value_counts().argmax()],\n",
        "                           inplace=True)"
      ],
      "metadata": {
        "id": "SPWw23ksCw0E"
      },
      "execution_count": null,
      "outputs": []
    },
    {
      "cell_type": "code",
      "source": [
        "data.isna().sum()"
      ],
      "metadata": {
        "colab": {
          "base_uri": "https://localhost:8080/"
        },
        "id": "9y0sFElUChg9",
        "outputId": "13882828-8097-40a7-cd85-5d15c528376e"
      },
      "execution_count": null,
      "outputs": [
        {
          "output_type": "execute_result",
          "data": {
            "text/plain": [
              "price               0\n",
              "year                0\n",
              "manufacturer        0\n",
              "model               0\n",
              "condition           0\n",
              "cylinders           0\n",
              "fuel                0\n",
              "odometer            0\n",
              "transmission        0\n",
              "drive            2491\n",
              "size            36793\n",
              "type             1893\n",
              "paint_color      2856\n",
              "dtype: int64"
            ]
          },
          "metadata": {},
          "execution_count": 43
        }
      ]
    },
    {
      "cell_type": "code",
      "source": [
        "data[\"drive\"].fillna(value=data[\"drive\"].value_counts().index[data[\"drive\"].value_counts().argmax()],\n",
        "                           inplace=True)"
      ],
      "metadata": {
        "id": "RQ_gdJD7Jhxo"
      },
      "execution_count": null,
      "outputs": []
    },
    {
      "cell_type": "code",
      "source": [
        "data[\"size\"].fillna(value=data[\"size\"].value_counts().index[data[\"size\"].value_counts().argmax()],\n",
        "                           inplace=True)"
      ],
      "metadata": {
        "id": "UYz0dTsCDPPd"
      },
      "execution_count": null,
      "outputs": []
    },
    {
      "cell_type": "code",
      "source": [
        "data[\"type\"].fillna(value=data[\"type\"].value_counts().index[data[\"type\"].value_counts().argmax()],\n",
        "                           inplace=True)"
      ],
      "metadata": {
        "id": "SsWas-eWDVYV"
      },
      "execution_count": null,
      "outputs": []
    },
    {
      "cell_type": "code",
      "source": [
        "data.isna().sum()"
      ],
      "metadata": {
        "colab": {
          "base_uri": "https://localhost:8080/"
        },
        "id": "uaseO4tzDa_M",
        "outputId": "1067453a-9fdb-4662-c762-42237ae7b34b"
      },
      "execution_count": null,
      "outputs": [
        {
          "output_type": "execute_result",
          "data": {
            "text/plain": [
              "price           0\n",
              "year            0\n",
              "manufacturer    0\n",
              "model           0\n",
              "condition       0\n",
              "cylinders       0\n",
              "fuel            0\n",
              "odometer        0\n",
              "transmission    0\n",
              "drive           0\n",
              "size            0\n",
              "type            0\n",
              "paint_color     0\n",
              "dtype: int64"
            ]
          },
          "metadata": {},
          "execution_count": 56
        }
      ]
    },
    {
      "cell_type": "markdown",
      "source": [
        "**Here we have filled the missing values in the car data set.**"
      ],
      "metadata": {
        "id": "OKBFkxwPRPFv"
      }
    }
  ]
}