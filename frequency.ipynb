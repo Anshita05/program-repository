{
  "nbformat": 4,
  "nbformat_minor": 0,
  "metadata": {
    "colab": {
      "provenance": [],
      "authorship_tag": "ABX9TyPONroIrh6JyewZfmv5++YH",
      "include_colab_link": true
    },
    "kernelspec": {
      "name": "python3",
      "display_name": "Python 3"
    },
    "language_info": {
      "name": "python"
    }
  },
  "cells": [
    {
      "cell_type": "markdown",
      "metadata": {
        "id": "view-in-github",
        "colab_type": "text"
      },
      "source": [
        "<a href=\"https://colab.research.google.com/github/Anshita05/program-repository/blob/main/frequency.ipynb\" target=\"_parent\"><img src=\"https://colab.research.google.com/assets/colab-badge.svg\" alt=\"Open In Colab\"/></a>"
      ]
    },
    {
      "cell_type": "markdown",
      "source": [
        "Q1: If a coin is tossed and it gives true.Then create a random string having numbers till 10th index and from the 11th index it should contain Alphabets.Then create a total of 1000 random strings and make a table of outcomes to plot a graph .\n"
      ],
      "metadata": {
        "id": "RyEYQOe-roRr"
      }
    },
    {
      "cell_type": "code",
      "execution_count": null,
      "metadata": {
        "id": "gpl65GO2HKbi"
      },
      "outputs": [],
      "source": [
        "import random\n",
        "import matplotlib.pyplot as plt"
      ]
    },
    {
      "cell_type": "markdown",
      "source": [
        "Explaination: In the above code we have imported two modeules \"random\" and \"matplotlib.pyplot\". the \"random\" module is used for generating numbers and \"matplotlib.pyplot\" module is a part of the Matplotlib library, which is used for creating static, animated, and interactive visualizations in Python."
      ],
      "metadata": {
        "id": "JSWht-ltsSdB"
      }
    },
    {
      "cell_type": "code",
      "source": [
        "mapping_dict = dict(zip(range(0,10),range(0,10)))"
      ],
      "metadata": {
        "id": "16nG0_ZaHXZf"
      },
      "execution_count": null,
      "outputs": []
    },
    {
      "cell_type": "markdown",
      "source": [
        "Explaination: This line creates an initial dictionary where keys are integers from 0 to 9, and the values are the same integers. It uses the zip function to pair the elements from the two ranges and then converts them into a dictionary using dict()."
      ],
      "metadata": {
        "id": "GfkZQu0wvCic"
      }
    },
    {
      "cell_type": "code",
      "source": [
        "mapping_dict"
      ],
      "metadata": {
        "colab": {
          "base_uri": "https://localhost:8080/"
        },
        "id": "lCG7R-SRHeWb",
        "outputId": "9ba68296-534e-4265-d5f5-cf4900a1f0b5"
      },
      "execution_count": null,
      "outputs": [
        {
          "output_type": "execute_result",
          "data": {
            "text/plain": [
              "{0: 0, 1: 1, 2: 2, 3: 3, 4: 4, 5: 5, 6: 6, 7: 7, 8: 8, 9: 9}"
            ]
          },
          "metadata": {},
          "execution_count": 10
        }
      ]
    },
    {
      "cell_type": "code",
      "source": [
        "for k in mapping_dict.keys():\n",
        "\n",
        "  mapping_dict[k] = str(mapping_dict[k])"
      ],
      "metadata": {
        "id": "ebY0EZF8Hi47"
      },
      "execution_count": null,
      "outputs": []
    },
    {
      "cell_type": "markdown",
      "source": [
        "Explaination: This loop iterates through each key in mapping_dict and converts its corresponding value to a string using str(). It modifies the existing values in the dictionary"
      ],
      "metadata": {
        "id": "NYkGTIE0vwkQ"
      }
    },
    {
      "cell_type": "code",
      "source": [
        "mapping_dict"
      ],
      "metadata": {
        "colab": {
          "base_uri": "https://localhost:8080/"
        },
        "id": "UZ4QG1aJHt8L",
        "outputId": "f57d061c-8dc8-4d1a-eb40-26ea0d1b34ce"
      },
      "execution_count": null,
      "outputs": [
        {
          "output_type": "execute_result",
          "data": {
            "text/plain": [
              "{0: '0',\n",
              " 1: '1',\n",
              " 2: '2',\n",
              " 3: '3',\n",
              " 4: '4',\n",
              " 5: '5',\n",
              " 6: '6',\n",
              " 7: '7',\n",
              " 8: '8',\n",
              " 9: '9'}"
            ]
          },
          "metadata": {},
          "execution_count": 12
        }
      ]
    },
    {
      "cell_type": "code",
      "source": [
        "for i in range(0,26):\n",
        "  mapping_dict[10+i] = chr(65+i)"
      ],
      "metadata": {
        "id": "ZEWj3xhzHyj7"
      },
      "execution_count": null,
      "outputs": []
    },
    {
      "cell_type": "markdown",
      "source": [
        "Explaination: This loop iterates through the range of integers from 0 to 25. For each integer i, it assigns a new key-value pair to mapping_dict. The key is 10+i, and the value is the ASCII character corresponding to the uppercase letters A to Z, starting from 'A' (ASCII 65)."
      ],
      "metadata": {
        "id": "l0BjWkkVwB-K"
      }
    },
    {
      "cell_type": "code",
      "source": [
        "mapping_dict"
      ],
      "metadata": {
        "colab": {
          "base_uri": "https://localhost:8080/"
        },
        "id": "G3sMQGJtH3Fc",
        "outputId": "8420bc8f-d8e2-41d0-d9db-81a07e5f76c6"
      },
      "execution_count": null,
      "outputs": [
        {
          "output_type": "execute_result",
          "data": {
            "text/plain": [
              "{0: '0',\n",
              " 1: '1',\n",
              " 2: '2',\n",
              " 3: '3',\n",
              " 4: '4',\n",
              " 5: '5',\n",
              " 6: '6',\n",
              " 7: '7',\n",
              " 8: '8',\n",
              " 9: '9',\n",
              " 10: 'A',\n",
              " 11: 'B',\n",
              " 12: 'C',\n",
              " 13: 'D',\n",
              " 14: 'E',\n",
              " 15: 'F',\n",
              " 16: 'G',\n",
              " 17: 'H',\n",
              " 18: 'I',\n",
              " 19: 'J',\n",
              " 20: 'K',\n",
              " 21: 'L',\n",
              " 22: 'M',\n",
              " 23: 'N',\n",
              " 24: 'O',\n",
              " 25: 'P',\n",
              " 26: 'Q',\n",
              " 27: 'R',\n",
              " 28: 'S',\n",
              " 29: 'T',\n",
              " 30: 'U',\n",
              " 31: 'V',\n",
              " 32: 'W',\n",
              " 33: 'X',\n",
              " 34: 'Y',\n",
              " 35: 'Z'}"
            ]
          },
          "metadata": {},
          "execution_count": 14
        }
      ]
    },
    {
      "cell_type": "markdown",
      "source": [
        "Explaination: The final line of the code implicitly prints the modified mapping_dict. Now, the dictionary contains the original mappings of integers 0 to 9 to their string representations, and additional mappings of integers 10 to 35 to uppercase letters A to Z."
      ],
      "metadata": {
        "id": "tXnGjCLvwNPo"
      }
    },
    {
      "cell_type": "code",
      "source": [
        "sample_size =100000\n",
        "random_numbers = list()\n",
        "\n",
        "for i in range(0,100000):\n",
        "\n",
        "  blank_str = str()\n",
        "\n",
        "  random_digit = random.randint(0,35)\n",
        "  blank_str = blank_str + mapping_dict[random_digit]\n",
        "\n",
        "  random_digit = random.randint(0,35)\n",
        "  blank_str = blank_str + mapping_dict[random_digit]\n",
        "\n",
        "  for i in range(0,8):\n",
        "    coin_toss = random.randint(0,1)\n",
        "\n",
        "    if coin_toss == 1:\n",
        "\n",
        "      random_digit = random.randint(0,35)\n",
        "      blank_str = blank_str + mapping_dict[random_digit]\n",
        "\n",
        "    else:\n",
        "      break\n",
        "\n",
        "  random_numbers.append(blank_str)"
      ],
      "metadata": {
        "id": "6oQkFQQ4H8ZE"
      },
      "execution_count": null,
      "outputs": []
    },
    {
      "cell_type": "markdown",
      "source": [
        "Explaination:\n",
        "1. In the first step we begin the code by setting sample_size to 100,000, indicating the number of random strings to generate.\n",
        "2. random_numbers: By this we create an empty list to store the generated random strings.\n",
        "3. Generate Random Strings:The outer loop (for i in range(0, 100000)) runs 100,000 times to generate a large number of random strings.\n",
        "Inside the loop, a new string (blank_str) is initialized for each iteration.\n",
        "4. Append Initial Digits:Two random digits are generated and their corresponding characters from mapping_dict are appended to the string.\n",
        "5. Coin Toss Loop:A nested loop runs up to 8 times, representing a coin toss for each iteration.   \n",
        ". In each iteration, a random coin toss (0 or 1) is simulated.             \n",
        ". If the toss is 1, another random digit's character from mapping_dict is appended to the string.        \n",
        ". If the toss is 0, the loop breaks.\n",
        "6. Append to List:The generated string is appended to the list random_numbers in each iteration.  \n",
        "In the end, random_numbers will be a list containing 100,000 randomly generated strings based on the specified rules.\n",
        "\n",
        "\n",
        "\n",
        "\n",
        "\n"
      ],
      "metadata": {
        "id": "7AlCU0LgAR1d"
      }
    },
    {
      "cell_type": "code",
      "source": [
        "reverse_mapping_dict = dict()\n",
        "\n",
        "for k in mapping_dict.keys():\n",
        "  reverse_mapping_dict[mapping_dict[k]] = k"
      ],
      "metadata": {
        "id": "_JIL3La7IB-r"
      },
      "execution_count": null,
      "outputs": []
    },
    {
      "cell_type": "markdown",
      "source": [
        "Explaination:\n",
        "1. firstly we initialize an empty dictionary to store the reversed key-value pairs.\n",
        "2. The code iterates over the keys (k) of the existing dictionary mapping_dict.\n",
        "3. Reversing Key-Value Pairs:For each key k in mapping_dict, the corresponding value (mapping_dict[k]) is used as the key in reverse_mapping_dict, and the original key k is used as the value. This effectively reverses the key-value pairs.\n",
        "4. Result:After the loop completes, reverse_mapping_dict contains the reversed key-value pairs of mapping_dict.  \n",
        "In summary, the code creates a new dictionary (reverse_mapping_dict) where the keys are the values from the original dictionary (mapping_dict), and the values are the corresponding keys from the original dictionary. This is a common pattern for creating a reverse lookup dictionary when you have a one-to-one mapping.\n",
        "\n",
        "\n",
        "\n",
        "\n",
        "\n"
      ],
      "metadata": {
        "id": "PRi4Si1uHoiP"
      }
    },
    {
      "cell_type": "code",
      "source": [
        "base_frequency = dict()\n",
        "\n",
        "for blank_str in random_numbers:\n",
        "  highest_digit = max(blank_str)\n",
        "  highest_base = reverse_mapping_dict[highest_digit] + 1\n",
        "\n",
        "  if highest_base in base_frequency.keys():\n",
        "    base_frequency[highest_base] += 1/sample_size\n",
        "  else:\n",
        "    base_frequency[highest_base] = 1/sample_size\n"
      ],
      "metadata": {
        "id": "P8v_0CFrIIPM"
      },
      "execution_count": null,
      "outputs": []
    },
    {
      "cell_type": "markdown",
      "source": [
        "Explaination: This code analyzes a list of randomly generated strings (random_numbers) and calculates the frequency of the highest base used in each string.   \n",
        "1. The code intializes an empty dictionary \"base_frequency\" to store the frequencies of the highest bases\n",
        "2. The code iterates over each string (blank_str) in the list random_numbers.\n",
        "3. For each string, it finds the highest digit by using the max function\n",
        "4. Mapping Digit to Base:  \n",
        "     .highest_base: The highest digit is used to look up its corresponding base in the reversed mapping dictionary (reverse_mapping_dict). The base is then incremented by 1. This assumes that the mapping represents a base-36 system, where '0' corresponds to base 1, '1' corresponds to base 2, and so on.\n",
        "5. Updating Frequency:The code checks if highest_base is already present in base_frequency.keys(). If yes, it increments the existing frequency by 1/sample_size. If not, it creates a new entry with a frequency of 1/sample_size.\n",
        "6. Result: After the loop completes, base_frequency contains the frequencies of the highest bases across all strings in random_numbers. The frequencies are normalized by dividing by sample_size.\n",
        "In summary, this code calculates the frequencies of the highest bases used in the randomly generated strings and stores the results in a dictionary (base_frequency).\n",
        "\n",
        "\n",
        "\n",
        "\n",
        "\n"
      ],
      "metadata": {
        "id": "3Y8Y7-5RI6eG"
      }
    },
    {
      "cell_type": "code",
      "source": [
        "plt.bar(x=base_frequency.keys(),height=base_frequency.values())"
      ],
      "metadata": {
        "colab": {
          "base_uri": "https://localhost:8080/",
          "height": 447
        },
        "id": "DxZoK4L2IM_9",
        "outputId": "e2690666-5931-4a33-d1c6-ec18a8fbfcf7"
      },
      "execution_count": null,
      "outputs": [
        {
          "output_type": "execute_result",
          "data": {
            "text/plain": [
              "<BarContainer object of 36 artists>"
            ]
          },
          "metadata": {},
          "execution_count": 20
        },
        {
          "output_type": "display_data",
          "data": {
            "text/plain": [
              "<Figure size 640x480 with 1 Axes>"
            ],
            "image/png": "[encoded data removed]"
          },
          "metadata": {}
        }
      ]
    },
    {
      "cell_type": "markdown",
      "source": [
        "Explaination:  \n",
        "Creating a Bar Chart: plt.bar(x=base_frequency.keys(), height=base_frequency.values()): This line creates a bar chart using Matplotlib's bar function.\n",
        "x=base_frequency.keys(): Specifies the x-axis values, which are the keys (highest bases) from the base_frequency dictionary.\n",
        "height=base_frequency.values(): Specifies the height of the bars, which are the corresponding values (frequencies) from the base_frequency dictionary.\n",
        "Displaying the Plot: plt.show(): This line displays the created bar chart. It is necessary to use this line if you're running the code in a script or a non-interactive environment.  \n",
        "The resulting bar chart visually represents the frequencies of the highest bases used in the randomly generated strings. Each bar corresponds to a base, and the height of the bar represents the frequency of that base in the dataset."
      ],
      "metadata": {
        "id": "SMNf-IXbLErI"
      }
    }
  ]
}